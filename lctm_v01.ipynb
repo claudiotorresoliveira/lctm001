{
 "cells": [
  {
   "attachments": {},
   "cell_type": "markdown",
   "metadata": {},
   "source": [
    "## **Loca Como Tu Madre**"
   ]
  },
  {
   "cell_type": "code",
   "execution_count": 1,
   "metadata": {},
   "outputs": [
    {
     "data": {
      "text/html": [
       "        <script type=\"text/javascript\">\n",
       "        window.PlotlyConfig = {MathJaxConfig: 'local'};\n",
       "        if (window.MathJax && window.MathJax.Hub && window.MathJax.Hub.Config) {window.MathJax.Hub.Config({SVG: {font: \"STIX-Web\"}});}\n",
       "        if (typeof require !== 'undefined') {\n",
       "        require.undef(\"plotly\");\n",
       "        requirejs.config({\n",
       "            paths: {\n",
       "                'plotly': ['https://cdn.plot.ly/plotly-2.18.2.min']\n",
       "            }\n",
       "        });\n",
       "        require(['plotly'], function(Plotly) {\n",
       "            window._Plotly = Plotly;\n",
       "        });\n",
       "        }\n",
       "        </script>\n",
       "        "
      ]
     },
     "metadata": {},
     "output_type": "display_data"
    }
   ],
   "source": [
    "from IPython import display\n",
    "\n",
    "import pandas as pd\n",
    "import numpy as np\n",
    "import matplotlib.pyplot as plt\n",
    "# import seaborn as sns; sns.set()\n",
    "import datetime\n",
    "import nbformat\n",
    "import plotly.express as px\n",
    "from plotly.offline import download_plotlyjs, init_notebook_mode, plot, iplot\n",
    "init_notebook_mode (connected = True )\n",
    "import plotly.graph_objs as go\n",
    "import plotly.offline as py\n",
    "from matplotlib.backends.backend_pdf import PdfPages\n",
    "from fpdf import FPDF\n",
    "pd.options.display.max_columns = None\n",
    "pd.options.display.max_rows = None\n",
    "import locale\n",
    "import plotly.io as pio"
   ]
  },
  {
   "cell_type": "code",
   "execution_count": 3,
   "metadata": {},
   "outputs": [],
   "source": [
    "# 1) git log --pretty=format:%cI,%h,%an,%ae,%s > /home/claudio/@LCTM/commits_LCTM.csv\n",
    "# 2) abrir excel e e na aba dados, importar o arquivo gerado pelo código acima\n"
   ]
  },
  {
   "cell_type": "code",
   "execution_count": 64,
   "metadata": {},
   "outputs": [],
   "source": [
    "# setar locale para português para que os dias da semana retornem em portugês no código abaixo.\n",
    "locale.setlocale(locale.LC_ALL, 'pt_BR.utf-8')\n",
    "\n",
    "# Importing each csv file and then joinning then, \n",
    "# as the files for other months are send by the client we can insert each one at the end of this code\n",
    "\n",
    "df1 = pd.read_csv(r'/home/claudio/@LCTM/lctm001/2022_07.csv', encoding=\"ISO-8859-1\", sep = ';')\n",
    "df2 = pd.read_csv(r'/home/claudio/@LCTM/lctm001/2022_08.csv', encoding=\"ISO-8859-1\", sep = ';')\n",
    "df3 = pd.read_csv(r'/home/claudio/@LCTM/lctm001/2022_09.csv', encoding=\"ISO-8859-1\", sep = ';')\n",
    "df4 = pd.read_csv(r'/home/claudio/@LCTM/lctm001/2022_10.csv', encoding=\"ISO-8859-1\", sep = ';')\n",
    "df5 = pd.read_csv(r'/home/claudio/@LCTM/lctm001/2022_11.csv', encoding=\"ISO-8859-1\", sep = ';')\n",
    "df6 = pd.read_csv(r'/home/claudio/@LCTM/lctm001/2022_12.csv', encoding=\"ISO-8859-1\", sep = ';')\n",
    "df7 = pd.read_csv(r'/home/claudio/@LCTM/lctm001/2023_01.csv', encoding=\"ISO-8859-1\", sep = ';')"
   ]
  },
  {
   "cell_type": "code",
   "execution_count": 65,
   "metadata": {},
   "outputs": [],
   "source": [
    "transactions = pd.concat([df1, df2, df3, df4, df5, df6, df7], ignore_index=True)"
   ]
  },
  {
   "cell_type": "code",
   "execution_count": 66,
   "metadata": {},
   "outputs": [],
   "source": [
    "del transactions['Vr. Desconto']\n",
    "del transactions['Valor Venda']\n",
    "del transactions['Tx Serviço']\n",
    "del transactions[\"Caixa\"]\n",
    "del transactions['Operador']\n",
    "del transactions['Data Cancelamento']\n",
    "del transactions['Operador Cancelamento']\n",
    "del transactions['Operador Desconto']\n",
    "del transactions['Operador Desc Repique']\n",
    "del transactions['NRC']\n",
    "del transactions['Comandas']\n",
    "del transactions['Série NFCE']\n",
    "del transactions['Série NFE']\n",
    "del transactions['Integração']\n",
    "del transactions['Observação']\n",
    "del transactions['CO_CLIENTE']\n",
    "del transactions['Atendente']\n",
    "del transactions['IC_REVENDA']"
   ]
  },
  {
   "cell_type": "code",
   "execution_count": 97,
   "metadata": {},
   "outputs": [
    {
     "name": "stdout",
     "output_type": "stream",
     "text": [
      "<class 'pandas.core.frame.DataFrame'>\n",
      "Int64Index: 46465 entries, 1 to 46471\n",
      "Data columns (total 12 columns):\n",
      " #   Column            Non-Null Count  Dtype  \n",
      "---  ------            --------------  -----  \n",
      " 0   prim_col          4831 non-null   float64\n",
      " 1   NFe               41635 non-null  object \n",
      " 2   NFCe              46463 non-null  object \n",
      " 3   Data Venda        46465 non-null  object \n",
      " 4   Data Recebimento  46465 non-null  object \n",
      " 5   Nome Cliente      41643 non-null  object \n",
      " 6   Valor Recebido    46465 non-null  object \n",
      " 7   Operação          46463 non-null  object \n",
      " 8   venda             46465 non-null  int64  \n",
      " 9   Vendedor          4830 non-null   object \n",
      " 10  data_venda        46465 non-null  object \n",
      " 11  data_recebimento  46465 non-null  object \n",
      "dtypes: float64(1), int64(1), object(10)\n",
      "memory usage: 4.6+ MB\n"
     ]
    }
   ],
   "source": [
    "transactions.info()"
   ]
  },
  {
   "cell_type": "code",
   "execution_count": 98,
   "metadata": {},
   "outputs": [
    {
     "data": {
      "text/html": [
       "<div>\n",
       "<style scoped>\n",
       "    .dataframe tbody tr th:only-of-type {\n",
       "        vertical-align: middle;\n",
       "    }\n",
       "\n",
       "    .dataframe tbody tr th {\n",
       "        vertical-align: top;\n",
       "    }\n",
       "\n",
       "    .dataframe thead th {\n",
       "        text-align: right;\n",
       "    }\n",
       "</style>\n",
       "<table border=\"1\" class=\"dataframe\">\n",
       "  <thead>\n",
       "    <tr style=\"text-align: right;\">\n",
       "      <th></th>\n",
       "      <th>prim_col</th>\n",
       "      <th>NFe</th>\n",
       "      <th>NFCe</th>\n",
       "      <th>Data Venda</th>\n",
       "      <th>Data Recebimento</th>\n",
       "      <th>Nome Cliente</th>\n",
       "      <th>Valor Recebido</th>\n",
       "      <th>Operação</th>\n",
       "      <th>venda</th>\n",
       "      <th>Vendedor</th>\n",
       "      <th>data_venda</th>\n",
       "      <th>data_recebimento</th>\n",
       "    </tr>\n",
       "  </thead>\n",
       "  <tbody>\n",
       "    <tr>\n",
       "      <th>1</th>\n",
       "      <td>981201.0</td>\n",
       "      <td>NaN</td>\n",
       "      <td>6490</td>\n",
       "      <td>30/07/2022 20:02:56</td>\n",
       "      <td>30/07/2022 22:58:00</td>\n",
       "      <td>NaN</td>\n",
       "      <td>209</td>\n",
       "      <td>1</td>\n",
       "      <td>981201</td>\n",
       "      <td>JESSICA</td>\n",
       "      <td>30/07/2022 20:02:56</td>\n",
       "      <td>30/07/2022 22:58:00</td>\n",
       "    </tr>\n",
       "    <tr>\n",
       "      <th>2</th>\n",
       "      <td>NaN</td>\n",
       "      <td>421</td>\n",
       "      <td>BURRATA COM JAMON E VERDE</td>\n",
       "      <td>1</td>\n",
       "      <td>49</td>\n",
       "      <td>49</td>\n",
       "      <td>30/07/2022 20:03:12</td>\n",
       "      <td>JESSICA</td>\n",
       "      <td>981201</td>\n",
       "      <td>NaN</td>\n",
       "      <td>nd</td>\n",
       "      <td>nd</td>\n",
       "    </tr>\n",
       "    <tr>\n",
       "      <th>3</th>\n",
       "      <td>NaN</td>\n",
       "      <td>41</td>\n",
       "      <td>PORÇAO NACHOS</td>\n",
       "      <td>1</td>\n",
       "      <td>15</td>\n",
       "      <td>15</td>\n",
       "      <td>30/07/2022 20:17:28</td>\n",
       "      <td>JESSICA</td>\n",
       "      <td>981201</td>\n",
       "      <td>NaN</td>\n",
       "      <td>nd</td>\n",
       "      <td>nd</td>\n",
       "    </tr>\n",
       "    <tr>\n",
       "      <th>4</th>\n",
       "      <td>NaN</td>\n",
       "      <td>97</td>\n",
       "      <td>JARRA SANGRIA LOCA SUMMER</td>\n",
       "      <td>1</td>\n",
       "      <td>55</td>\n",
       "      <td>55</td>\n",
       "      <td>30/07/2022 20:22:20</td>\n",
       "      <td>GABRIEL</td>\n",
       "      <td>981201</td>\n",
       "      <td>NaN</td>\n",
       "      <td>nd</td>\n",
       "      <td>nd</td>\n",
       "    </tr>\n",
       "    <tr>\n",
       "      <th>5</th>\n",
       "      <td>NaN</td>\n",
       "      <td>406</td>\n",
       "      <td>LULAS EMPANADAS</td>\n",
       "      <td>1</td>\n",
       "      <td>38</td>\n",
       "      <td>38</td>\n",
       "      <td>30/07/2022 21:22:51</td>\n",
       "      <td>JESSICA</td>\n",
       "      <td>981201</td>\n",
       "      <td>NaN</td>\n",
       "      <td>nd</td>\n",
       "      <td>nd</td>\n",
       "    </tr>\n",
       "  </tbody>\n",
       "</table>\n",
       "</div>"
      ],
      "text/plain": [
       "   prim_col  NFe                       NFCe           Data Venda  \\\n",
       "1  981201.0  NaN                       6490  30/07/2022 20:02:56   \n",
       "2       NaN  421  BURRATA COM JAMON E VERDE                    1   \n",
       "3       NaN   41              PORÇAO NACHOS                    1   \n",
       "4       NaN   97  JARRA SANGRIA LOCA SUMMER                    1   \n",
       "5       NaN  406            LULAS EMPANADAS                    1   \n",
       "\n",
       "      Data Recebimento Nome Cliente       Valor Recebido Operação   venda  \\\n",
       "1  30/07/2022 22:58:00          NaN                  209        1  981201   \n",
       "2                   49           49  30/07/2022 20:03:12  JESSICA  981201   \n",
       "3                   15           15  30/07/2022 20:17:28  JESSICA  981201   \n",
       "4                   55           55  30/07/2022 20:22:20  GABRIEL  981201   \n",
       "5                   38           38  30/07/2022 21:22:51  JESSICA  981201   \n",
       "\n",
       "  Vendedor           data_venda     data_recebimento  \n",
       "1  JESSICA  30/07/2022 20:02:56  30/07/2022 22:58:00  \n",
       "2      NaN                   nd                   nd  \n",
       "3      NaN                   nd                   nd  \n",
       "4      NaN                   nd                   nd  \n",
       "5      NaN                   nd                   nd  "
      ]
     },
     "execution_count": 98,
     "metadata": {},
     "output_type": "execute_result"
    }
   ],
   "source": [
    "transactions.head()"
   ]
  },
  {
   "cell_type": "code",
   "execution_count": 68,
   "metadata": {},
   "outputs": [],
   "source": [
    "# renomeei a coluna 'Tipo Operação' para 'venda'.\n",
    "transactions.rename(columns = {'Tipo Operação':'venda'}, inplace = True)"
   ]
  },
  {
   "cell_type": "code",
   "execution_count": 69,
   "metadata": {},
   "outputs": [],
   "source": [
    "# Pandas Drop Rows Based on Column Value\n",
    "# https://sparkbyexamples.com/pandas/pandas-delete-rows-based-on-column-value/\n",
    "transactions.drop(transactions[transactions['venda'] == 'CO_VENDA'].index, inplace = True)"
   ]
  },
  {
   "cell_type": "code",
   "execution_count": 70,
   "metadata": {},
   "outputs": [],
   "source": [
    "# renomeei a coluna 'Cod Venda' para 'prim_col'.\n",
    "transactions.rename(columns = {'Cod Venda':'prim_col'}, inplace = True)"
   ]
  },
  {
   "cell_type": "code",
   "execution_count": 90,
   "metadata": {},
   "outputs": [],
   "source": [
    "# If 'prim_col' value is not empty, set the value of column 'venda' to the value of column 'prim_col', else value of column 'venda' stays the same\n",
    "transactions['venda'] = transactions.apply(lambda row: row['prim_col'] if row['venda'] == 'LOCA' else row['venda'], axis=1)\n",
    "\n",
    "# If 'prim_col' value is not empty, set the value of column 'venda' to the value of column 'prim_col', else value of column 'venda' stays the same\n",
    "transactions['venda'] = transactions.apply(lambda row: row['prim_col'] if row['venda'] == 'Balcao' else row['venda'], axis=1)\n",
    "\n",
    "\n",
    "# Vamos analisar cada parte dessa linha:\n",
    "#transactions['venda']: Estamos nos referindo à coluna 'venda' do DataFrame transactions.\n",
    "# Essa coluna será atualizada com base no resultado da operação que será realizada a seguir.\n",
    "#transactions.apply(...): O método apply() é usado para aplicar uma função a todas as linhas \n",
    "# (ou colunas) de um DataFrame. Neste caso, a função está sendo aplicada às linhas, conforme\n",
    "# especificado pelo argumento axis=1.\n",
    "#lambda row: ...: Estamos usando uma função lambda, que é uma função anônima e de uso único.\n",
    "# Essa função aceita um argumento chamado row, que representa uma linha do DataFrame transactions.\n",
    "#row['prim_col'] if row['venda'] == 'LOCA' else row['venda']: Esta é a lógica da função lambda.\n",
    "# Estamos usando uma expressão condicional para verificar se o valor da coluna 'venda' na\n",
    "# linha atual (row['venda']) é igual a 'LOCA'. Se for verdade, o valor da coluna 'prim_col'\n",
    "# na mesma linha (row['prim_col']) será usado como resultado. Caso contrário, o próprio valor da coluna 'venda' será mantido."
   ]
  },
  {
   "cell_type": "code",
   "execution_count": 94,
   "metadata": {},
   "outputs": [
    {
     "data": {
      "text/html": [
       "<div>\n",
       "<style scoped>\n",
       "    .dataframe tbody tr th:only-of-type {\n",
       "        vertical-align: middle;\n",
       "    }\n",
       "\n",
       "    .dataframe tbody tr th {\n",
       "        vertical-align: top;\n",
       "    }\n",
       "\n",
       "    .dataframe thead th {\n",
       "        text-align: right;\n",
       "    }\n",
       "</style>\n",
       "<table border=\"1\" class=\"dataframe\">\n",
       "  <thead>\n",
       "    <tr style=\"text-align: right;\">\n",
       "      <th></th>\n",
       "      <th>prim_col</th>\n",
       "      <th>NFe</th>\n",
       "      <th>NFCe</th>\n",
       "      <th>Data Venda</th>\n",
       "      <th>Data Recebimento</th>\n",
       "      <th>Nome Cliente</th>\n",
       "      <th>Valor Recebido</th>\n",
       "      <th>Operação</th>\n",
       "      <th>venda</th>\n",
       "      <th>Vendedor</th>\n",
       "      <th>data_venda</th>\n",
       "      <th>data_recebimento</th>\n",
       "    </tr>\n",
       "  </thead>\n",
       "  <tbody>\n",
       "  </tbody>\n",
       "</table>\n",
       "</div>"
      ],
      "text/plain": [
       "Empty DataFrame\n",
       "Columns: [prim_col, NFe, NFCe, Data Venda, Data Recebimento, Nome Cliente, Valor Recebido, Operação, venda, Vendedor, data_venda, data_recebimento]\n",
       "Index: []"
      ]
     },
     "execution_count": 94,
     "metadata": {},
     "output_type": "execute_result"
    }
   ],
   "source": [
    "# Função para verificar se o valor é uma string e contém apenas letras, testando se o código da celula anterior funcionou\n",
    "def is_string_with_letters(value):\n",
    "    return isinstance(value, str) and value.isalpha()\n",
    "\n",
    "# Aplicando o filtro para manter apenas as linhas onde o valor da coluna 'venda' é uma string e contém apenas letras\n",
    "filtered_transactions = transactions[transactions['venda'].apply(is_string_with_letters)]\n",
    "\n",
    "# filtered_transactions"
   ]
  },
  {
   "cell_type": "code",
   "execution_count": 83,
   "metadata": {},
   "outputs": [],
   "source": [
    "# Função para verificar se o valor é uma data\n",
    "def is_date(value):\n",
    "    try:\n",
    "        pd.to_datetime(value)\n",
    "        return True\n",
    "    except ValueError:\n",
    "        return False\n",
    "\n",
    "# Função para aplicar à coluna\n",
    "def copy_date_or_set_nd(value):\n",
    "    return value if is_date(value) else 'nd'\n"
   ]
  },
  {
   "cell_type": "code",
   "execution_count": 84,
   "metadata": {},
   "outputs": [],
   "source": [
    "\n",
    "# Criar a nova coluna 'data_venda' aplicando a função copy_date_or_set_nd\n",
    "transactions['data_venda'] = transactions['Data Venda'].apply(copy_date_or_set_nd)\n",
    "\n"
   ]
  },
  {
   "cell_type": "code",
   "execution_count": 85,
   "metadata": {},
   "outputs": [],
   "source": [
    "# Criar a nova coluna 'data_recebimento' aplicando a função copy_date_or_set_nd\n",
    "transactions['data_recebimento'] = transactions['Data Recebimento'].apply(copy_date_or_set_nd)\n"
   ]
  },
  {
   "cell_type": "code",
   "execution_count": 96,
   "metadata": {},
   "outputs": [],
   "source": [
    "# Convert the \"venda\" variable from object type to integer type\n",
    "transactions['venda'] = np.int64(transactions['venda'])"
   ]
  },
  {
   "cell_type": "code",
   "execution_count": null,
   "metadata": {},
   "outputs": [],
   "source": []
  }
 ],
 "metadata": {
  "kernelspec": {
   "display_name": "Python 3",
   "language": "python",
   "name": "python3"
  },
  "language_info": {
   "codemirror_mode": {
    "name": "ipython",
    "version": 3
   },
   "file_extension": ".py",
   "mimetype": "text/x-python",
   "name": "python",
   "nbconvert_exporter": "python",
   "pygments_lexer": "ipython3",
   "version": "3.10.6"
  },
  "orig_nbformat": 4
 },
 "nbformat": 4,
 "nbformat_minor": 2
}
