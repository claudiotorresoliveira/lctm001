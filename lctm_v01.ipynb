{
 "cells": [
  {
   "attachments": {},
   "cell_type": "markdown",
   "metadata": {},
   "source": [
    "## **Loca Como Tu Madre**"
   ]
  },
  {
   "cell_type": "code",
   "execution_count": 1,
   "metadata": {},
   "outputs": [
    {
     "data": {
      "text/html": [
       "        <script type=\"text/javascript\">\n",
       "        window.PlotlyConfig = {MathJaxConfig: 'local'};\n",
       "        if (window.MathJax && window.MathJax.Hub && window.MathJax.Hub.Config) {window.MathJax.Hub.Config({SVG: {font: \"STIX-Web\"}});}\n",
       "        if (typeof require !== 'undefined') {\n",
       "        require.undef(\"plotly\");\n",
       "        requirejs.config({\n",
       "            paths: {\n",
       "                'plotly': ['https://cdn.plot.ly/plotly-2.18.2.min']\n",
       "            }\n",
       "        });\n",
       "        require(['plotly'], function(Plotly) {\n",
       "            window._Plotly = Plotly;\n",
       "        });\n",
       "        }\n",
       "        </script>\n",
       "        "
      ]
     },
     "metadata": {},
     "output_type": "display_data"
    }
   ],
   "source": [
    "from IPython import display\n",
    "\n",
    "import pandas as pd\n",
    "import numpy as np\n",
    "import matplotlib.pyplot as plt\n",
    "# import seaborn as sns; sns.set()\n",
    "import datetime\n",
    "import nbformat\n",
    "import plotly.express as px\n",
    "from plotly.offline import download_plotlyjs, init_notebook_mode, plot, iplot\n",
    "init_notebook_mode (connected = True )\n",
    "import plotly.graph_objs as go\n",
    "import plotly.offline as py\n",
    "from matplotlib.backends.backend_pdf import PdfPages\n",
    "from fpdf import FPDF\n",
    "pd.options.display.max_columns = None\n",
    "pd.options.display.max_rows = None\n",
    "import locale\n",
    "import plotly.io as pio\n",
    "from datetime import date\n",
    "import calendar"
   ]
  },
  {
   "cell_type": "code",
   "execution_count": 2,
   "metadata": {},
   "outputs": [],
   "source": [
    "# 1) git log --pretty=format:%cI,%h,%an,%ae,%s > /home/claudio/@LCTM/commits_LCTM.csv\n",
    "# 2) abrir excel e e na aba dados, importar o arquivo gerado pelo código acima\n"
   ]
  },
  {
   "cell_type": "code",
   "execution_count": 3,
   "metadata": {},
   "outputs": [],
   "source": [
    "# setar locale para português para que os dias da semana retornem em portugês no código abaixo.\n",
    "locale.setlocale(locale.LC_ALL, 'pt_BR.utf-8')\n",
    "\n",
    "# Importing each csv file and then joinning then, \n",
    "# as the files for other months are send by the client we can insert each one at the end of this code\n",
    "\n",
    "df1 = pd.read_csv(r'/home/claudio/@LCTM/lctm001/2022_07.csv', encoding=\"ISO-8859-1\", sep = ';')\n",
    "df2 = pd.read_csv(r'/home/claudio/@LCTM/lctm001/2022_08.csv', encoding=\"ISO-8859-1\", sep = ';')\n",
    "df3 = pd.read_csv(r'/home/claudio/@LCTM/lctm001/2022_09.csv', encoding=\"ISO-8859-1\", sep = ';')\n",
    "df4 = pd.read_csv(r'/home/claudio/@LCTM/lctm001/2022_10.csv', encoding=\"ISO-8859-1\", sep = ';')\n",
    "df5 = pd.read_csv(r'/home/claudio/@LCTM/lctm001/2022_11.csv', encoding=\"ISO-8859-1\", sep = ';')\n",
    "df6 = pd.read_csv(r'/home/claudio/@LCTM/lctm001/2022_12.csv', encoding=\"ISO-8859-1\", sep = ';')\n",
    "df7 = pd.read_csv(r'/home/claudio/@LCTM/lctm001/2023_01.csv', encoding=\"ISO-8859-1\", sep = ';')"
   ]
  },
  {
   "cell_type": "code",
   "execution_count": 4,
   "metadata": {},
   "outputs": [],
   "source": [
    "transactions = pd.concat([df1, df2, df3, df4, df5, df6, df7], ignore_index=True)"
   ]
  },
  {
   "cell_type": "code",
   "execution_count": 5,
   "metadata": {},
   "outputs": [
    {
     "data": {
      "text/html": [
       "<div>\n",
       "<style scoped>\n",
       "    .dataframe tbody tr th:only-of-type {\n",
       "        vertical-align: middle;\n",
       "    }\n",
       "\n",
       "    .dataframe tbody tr th {\n",
       "        vertical-align: top;\n",
       "    }\n",
       "\n",
       "    .dataframe thead th {\n",
       "        text-align: right;\n",
       "    }\n",
       "</style>\n",
       "<table border=\"1\" class=\"dataframe\">\n",
       "  <thead>\n",
       "    <tr style=\"text-align: right;\">\n",
       "      <th></th>\n",
       "      <th>Cod Venda</th>\n",
       "      <th>NFe</th>\n",
       "      <th>NFCe</th>\n",
       "      <th>Data Venda</th>\n",
       "      <th>Data Recebimento</th>\n",
       "      <th>Nome Cliente</th>\n",
       "      <th>Valor Venda</th>\n",
       "      <th>Valor Recebido</th>\n",
       "      <th>Vr. Desconto</th>\n",
       "      <th>Tx Serviço</th>\n",
       "      <th>Operação</th>\n",
       "      <th>Tipo Operação</th>\n",
       "      <th>Caixa</th>\n",
       "      <th>Vendedor</th>\n",
       "      <th>Operador</th>\n",
       "      <th>Data Cancelamento</th>\n",
       "      <th>Operador Cancelamento</th>\n",
       "      <th>Operador Desconto</th>\n",
       "      <th>Operador Desc Repique</th>\n",
       "      <th>NRC</th>\n",
       "      <th>Comandas</th>\n",
       "      <th>Série NFCE</th>\n",
       "      <th>Série NFE</th>\n",
       "      <th>Integração</th>\n",
       "      <th>Observação</th>\n",
       "      <th>CO_CLIENTE</th>\n",
       "      <th>Atendente</th>\n",
       "      <th>IC_REVENDA</th>\n",
       "    </tr>\n",
       "  </thead>\n",
       "  <tbody>\n",
       "    <tr>\n",
       "      <th>0</th>\n",
       "      <td>NaN</td>\n",
       "      <td>Código</td>\n",
       "      <td>Produto</td>\n",
       "      <td>Qtde</td>\n",
       "      <td>Vr. Total</td>\n",
       "      <td>Vr. Unitário</td>\n",
       "      <td>Observação</td>\n",
       "      <td>Hora Lançamento</td>\n",
       "      <td>Computador</td>\n",
       "      <td>Operação</td>\n",
       "      <td>Atendente</td>\n",
       "      <td>CO_VENDA</td>\n",
       "      <td>IC_ITEM_CANCELADO</td>\n",
       "      <td>NaN</td>\n",
       "      <td>NaN</td>\n",
       "      <td>NaN</td>\n",
       "      <td>NaN</td>\n",
       "      <td>NaN</td>\n",
       "      <td>NaN</td>\n",
       "      <td>NaN</td>\n",
       "      <td>NaN</td>\n",
       "      <td>NaN</td>\n",
       "      <td>NaN</td>\n",
       "      <td>NaN</td>\n",
       "      <td>NaN</td>\n",
       "      <td>NaN</td>\n",
       "      <td>NaN</td>\n",
       "      <td>NaN</td>\n",
       "    </tr>\n",
       "    <tr>\n",
       "      <th>1</th>\n",
       "      <td>981201.0</td>\n",
       "      <td>NaN</td>\n",
       "      <td>6490</td>\n",
       "      <td>30/07/2022 20:02:56</td>\n",
       "      <td>30/07/2022 22:58:00</td>\n",
       "      <td>NaN</td>\n",
       "      <td>209</td>\n",
       "      <td>209</td>\n",
       "      <td>0</td>\n",
       "      <td>21</td>\n",
       "      <td>1</td>\n",
       "      <td>LOCA</td>\n",
       "      <td>50901</td>\n",
       "      <td>JESSICA</td>\n",
       "      <td>CAIXA</td>\n",
       "      <td>NaN</td>\n",
       "      <td>NaN</td>\n",
       "      <td>NaN</td>\n",
       "      <td>NaN</td>\n",
       "      <td>NaN</td>\n",
       "      <td>NaN</td>\n",
       "      <td>1.0</td>\n",
       "      <td>NaN</td>\n",
       "      <td>NaN</td>\n",
       "      <td>NaN</td>\n",
       "      <td>NaN</td>\n",
       "      <td>1701.0</td>\n",
       "      <td>NaN</td>\n",
       "    </tr>\n",
       "    <tr>\n",
       "      <th>2</th>\n",
       "      <td>NaN</td>\n",
       "      <td>421</td>\n",
       "      <td>BURRATA COM JAMON E VERDE</td>\n",
       "      <td>1</td>\n",
       "      <td>49</td>\n",
       "      <td>49</td>\n",
       "      <td>NaN</td>\n",
       "      <td>30/07/2022 20:03:12</td>\n",
       "      <td>SERVIDOR</td>\n",
       "      <td>1</td>\n",
       "      <td>JESSICA</td>\n",
       "      <td>981201</td>\n",
       "      <td>F</td>\n",
       "      <td>NaN</td>\n",
       "      <td>NaN</td>\n",
       "      <td>NaN</td>\n",
       "      <td>NaN</td>\n",
       "      <td>NaN</td>\n",
       "      <td>NaN</td>\n",
       "      <td>NaN</td>\n",
       "      <td>NaN</td>\n",
       "      <td>NaN</td>\n",
       "      <td>NaN</td>\n",
       "      <td>NaN</td>\n",
       "      <td>NaN</td>\n",
       "      <td>NaN</td>\n",
       "      <td>NaN</td>\n",
       "      <td>NaN</td>\n",
       "    </tr>\n",
       "    <tr>\n",
       "      <th>3</th>\n",
       "      <td>NaN</td>\n",
       "      <td>41</td>\n",
       "      <td>PORÇAO NACHOS</td>\n",
       "      <td>1</td>\n",
       "      <td>15</td>\n",
       "      <td>15</td>\n",
       "      <td>NaN</td>\n",
       "      <td>30/07/2022 20:17:28</td>\n",
       "      <td>SERVIDOR</td>\n",
       "      <td>1</td>\n",
       "      <td>JESSICA</td>\n",
       "      <td>981201</td>\n",
       "      <td>F</td>\n",
       "      <td>NaN</td>\n",
       "      <td>NaN</td>\n",
       "      <td>NaN</td>\n",
       "      <td>NaN</td>\n",
       "      <td>NaN</td>\n",
       "      <td>NaN</td>\n",
       "      <td>NaN</td>\n",
       "      <td>NaN</td>\n",
       "      <td>NaN</td>\n",
       "      <td>NaN</td>\n",
       "      <td>NaN</td>\n",
       "      <td>NaN</td>\n",
       "      <td>NaN</td>\n",
       "      <td>NaN</td>\n",
       "      <td>NaN</td>\n",
       "    </tr>\n",
       "    <tr>\n",
       "      <th>4</th>\n",
       "      <td>NaN</td>\n",
       "      <td>97</td>\n",
       "      <td>JARRA SANGRIA LOCA SUMMER</td>\n",
       "      <td>1</td>\n",
       "      <td>55</td>\n",
       "      <td>55</td>\n",
       "      <td>NaN</td>\n",
       "      <td>30/07/2022 20:22:20</td>\n",
       "      <td>SERVIDOR</td>\n",
       "      <td>1</td>\n",
       "      <td>GABRIEL</td>\n",
       "      <td>981201</td>\n",
       "      <td>F</td>\n",
       "      <td>NaN</td>\n",
       "      <td>NaN</td>\n",
       "      <td>NaN</td>\n",
       "      <td>NaN</td>\n",
       "      <td>NaN</td>\n",
       "      <td>NaN</td>\n",
       "      <td>NaN</td>\n",
       "      <td>NaN</td>\n",
       "      <td>NaN</td>\n",
       "      <td>NaN</td>\n",
       "      <td>NaN</td>\n",
       "      <td>NaN</td>\n",
       "      <td>NaN</td>\n",
       "      <td>NaN</td>\n",
       "      <td>NaN</td>\n",
       "    </tr>\n",
       "  </tbody>\n",
       "</table>\n",
       "</div>"
      ],
      "text/plain": [
       "   Cod Venda     NFe                       NFCe           Data Venda  \\\n",
       "0        NaN  Código                    Produto                 Qtde   \n",
       "1   981201.0     NaN                       6490  30/07/2022 20:02:56   \n",
       "2        NaN     421  BURRATA COM JAMON E VERDE                    1   \n",
       "3        NaN      41              PORÇAO NACHOS                    1   \n",
       "4        NaN      97  JARRA SANGRIA LOCA SUMMER                    1   \n",
       "\n",
       "      Data Recebimento  Nome Cliente Valor Venda       Valor Recebido  \\\n",
       "0            Vr. Total  Vr. Unitário  Observação      Hora Lançamento   \n",
       "1  30/07/2022 22:58:00           NaN         209                  209   \n",
       "2                   49            49         NaN  30/07/2022 20:03:12   \n",
       "3                   15            15         NaN  30/07/2022 20:17:28   \n",
       "4                   55            55         NaN  30/07/2022 20:22:20   \n",
       "\n",
       "  Vr. Desconto Tx Serviço   Operação Tipo Operação              Caixa  \\\n",
       "0   Computador   Operação  Atendente      CO_VENDA  IC_ITEM_CANCELADO   \n",
       "1            0         21          1          LOCA              50901   \n",
       "2     SERVIDOR          1    JESSICA        981201                  F   \n",
       "3     SERVIDOR          1    JESSICA        981201                  F   \n",
       "4     SERVIDOR          1    GABRIEL        981201                  F   \n",
       "\n",
       "  Vendedor Operador  Data Cancelamento  Operador Cancelamento  \\\n",
       "0      NaN      NaN                NaN                    NaN   \n",
       "1  JESSICA    CAIXA                NaN                    NaN   \n",
       "2      NaN      NaN                NaN                    NaN   \n",
       "3      NaN      NaN                NaN                    NaN   \n",
       "4      NaN      NaN                NaN                    NaN   \n",
       "\n",
       "   Operador Desconto  Operador Desc Repique  NRC  Comandas  Série NFCE  \\\n",
       "0                NaN                    NaN  NaN       NaN         NaN   \n",
       "1                NaN                    NaN  NaN       NaN         1.0   \n",
       "2                NaN                    NaN  NaN       NaN         NaN   \n",
       "3                NaN                    NaN  NaN       NaN         NaN   \n",
       "4                NaN                    NaN  NaN       NaN         NaN   \n",
       "\n",
       "   Série NFE  Integração  Observação  CO_CLIENTE  Atendente IC_REVENDA  \n",
       "0        NaN         NaN         NaN         NaN        NaN        NaN  \n",
       "1        NaN         NaN         NaN         NaN     1701.0        NaN  \n",
       "2        NaN         NaN         NaN         NaN        NaN        NaN  \n",
       "3        NaN         NaN         NaN         NaN        NaN        NaN  \n",
       "4        NaN         NaN         NaN         NaN        NaN        NaN  "
      ]
     },
     "execution_count": 5,
     "metadata": {},
     "output_type": "execute_result"
    }
   ],
   "source": [
    "df1.head()"
   ]
  },
  {
   "cell_type": "code",
   "execution_count": 6,
   "metadata": {},
   "outputs": [],
   "source": [
    "## DROPPING THE ROWS THAT ALL COLUMN VALUES ARE NULL\n",
    "#  https://www.youtube.com/watch?v=uDr67HBIPz8&t=818s\n",
    "\n",
    "transactions = transactions.dropna(how='all')"
   ]
  },
  {
   "cell_type": "code",
   "execution_count": 7,
   "metadata": {},
   "outputs": [],
   "source": [
    "del transactions['Vr. Desconto']\n",
    "del transactions['Valor Venda']\n",
    "del transactions['Tx Serviço']\n",
    "del transactions[\"Caixa\"]\n",
    "del transactions['Operador']\n",
    "del transactions['Data Cancelamento']\n",
    "del transactions['Operador Cancelamento']\n",
    "del transactions['Operador Desconto']\n",
    "del transactions['Operador Desc Repique']\n",
    "del transactions['NRC']\n",
    "del transactions['Comandas']\n",
    "del transactions['Série NFCE']\n",
    "del transactions['Série NFE']\n",
    "del transactions['Integração']\n",
    "del transactions['Observação']\n",
    "del transactions['CO_CLIENTE']\n",
    "del transactions['Atendente']\n",
    "del transactions['IC_REVENDA']"
   ]
  },
  {
   "cell_type": "code",
   "execution_count": 8,
   "metadata": {},
   "outputs": [
    {
     "name": "stdout",
     "output_type": "stream",
     "text": [
      "<class 'pandas.core.frame.DataFrame'>\n",
      "RangeIndex: 46472 entries, 0 to 46471\n",
      "Data columns (total 10 columns):\n",
      " #   Column            Non-Null Count  Dtype  \n",
      "---  ------            --------------  -----  \n",
      " 0   Cod Venda         4831 non-null   float64\n",
      " 1   NFe               41642 non-null  object \n",
      " 2   NFCe              46470 non-null  object \n",
      " 3   Data Venda        46472 non-null  object \n",
      " 4   Data Recebimento  46472 non-null  object \n",
      " 5   Nome Cliente      41650 non-null  object \n",
      " 6   Valor Recebido    46472 non-null  object \n",
      " 7   Operação          46470 non-null  object \n",
      " 8   Tipo Operação     46472 non-null  object \n",
      " 9   Vendedor          4830 non-null   object \n",
      "dtypes: float64(1), object(9)\n",
      "memory usage: 3.5+ MB\n"
     ]
    }
   ],
   "source": [
    "transactions.info()"
   ]
  },
  {
   "cell_type": "code",
   "execution_count": 9,
   "metadata": {},
   "outputs": [
    {
     "data": {
      "text/html": [
       "<div>\n",
       "<style scoped>\n",
       "    .dataframe tbody tr th:only-of-type {\n",
       "        vertical-align: middle;\n",
       "    }\n",
       "\n",
       "    .dataframe tbody tr th {\n",
       "        vertical-align: top;\n",
       "    }\n",
       "\n",
       "    .dataframe thead th {\n",
       "        text-align: right;\n",
       "    }\n",
       "</style>\n",
       "<table border=\"1\" class=\"dataframe\">\n",
       "  <thead>\n",
       "    <tr style=\"text-align: right;\">\n",
       "      <th></th>\n",
       "      <th>Cod Venda</th>\n",
       "      <th>NFe</th>\n",
       "      <th>NFCe</th>\n",
       "      <th>Data Venda</th>\n",
       "      <th>Data Recebimento</th>\n",
       "      <th>Nome Cliente</th>\n",
       "      <th>Valor Recebido</th>\n",
       "      <th>Operação</th>\n",
       "      <th>Tipo Operação</th>\n",
       "      <th>Vendedor</th>\n",
       "    </tr>\n",
       "  </thead>\n",
       "  <tbody>\n",
       "    <tr>\n",
       "      <th>0</th>\n",
       "      <td>NaN</td>\n",
       "      <td>Código</td>\n",
       "      <td>Produto</td>\n",
       "      <td>Qtde</td>\n",
       "      <td>Vr. Total</td>\n",
       "      <td>Vr. Unitário</td>\n",
       "      <td>Hora Lançamento</td>\n",
       "      <td>Atendente</td>\n",
       "      <td>CO_VENDA</td>\n",
       "      <td>NaN</td>\n",
       "    </tr>\n",
       "    <tr>\n",
       "      <th>1</th>\n",
       "      <td>981201.0</td>\n",
       "      <td>NaN</td>\n",
       "      <td>6490</td>\n",
       "      <td>30/07/2022 20:02:56</td>\n",
       "      <td>30/07/2022 22:58:00</td>\n",
       "      <td>NaN</td>\n",
       "      <td>209</td>\n",
       "      <td>1</td>\n",
       "      <td>LOCA</td>\n",
       "      <td>JESSICA</td>\n",
       "    </tr>\n",
       "    <tr>\n",
       "      <th>2</th>\n",
       "      <td>NaN</td>\n",
       "      <td>421</td>\n",
       "      <td>BURRATA COM JAMON E VERDE</td>\n",
       "      <td>1</td>\n",
       "      <td>49</td>\n",
       "      <td>49</td>\n",
       "      <td>30/07/2022 20:03:12</td>\n",
       "      <td>JESSICA</td>\n",
       "      <td>981201</td>\n",
       "      <td>NaN</td>\n",
       "    </tr>\n",
       "    <tr>\n",
       "      <th>3</th>\n",
       "      <td>NaN</td>\n",
       "      <td>41</td>\n",
       "      <td>PORÇAO NACHOS</td>\n",
       "      <td>1</td>\n",
       "      <td>15</td>\n",
       "      <td>15</td>\n",
       "      <td>30/07/2022 20:17:28</td>\n",
       "      <td>JESSICA</td>\n",
       "      <td>981201</td>\n",
       "      <td>NaN</td>\n",
       "    </tr>\n",
       "    <tr>\n",
       "      <th>4</th>\n",
       "      <td>NaN</td>\n",
       "      <td>97</td>\n",
       "      <td>JARRA SANGRIA LOCA SUMMER</td>\n",
       "      <td>1</td>\n",
       "      <td>55</td>\n",
       "      <td>55</td>\n",
       "      <td>30/07/2022 20:22:20</td>\n",
       "      <td>GABRIEL</td>\n",
       "      <td>981201</td>\n",
       "      <td>NaN</td>\n",
       "    </tr>\n",
       "    <tr>\n",
       "      <th>5</th>\n",
       "      <td>NaN</td>\n",
       "      <td>406</td>\n",
       "      <td>LULAS EMPANADAS</td>\n",
       "      <td>1</td>\n",
       "      <td>38</td>\n",
       "      <td>38</td>\n",
       "      <td>30/07/2022 21:22:51</td>\n",
       "      <td>JESSICA</td>\n",
       "      <td>981201</td>\n",
       "      <td>NaN</td>\n",
       "    </tr>\n",
       "    <tr>\n",
       "      <th>6</th>\n",
       "      <td>NaN</td>\n",
       "      <td>2</td>\n",
       "      <td>RISOTINHO DE CAMARÃO</td>\n",
       "      <td>1</td>\n",
       "      <td>52</td>\n",
       "      <td>52</td>\n",
       "      <td>30/07/2022 22:26:07</td>\n",
       "      <td>JESSICA</td>\n",
       "      <td>981201</td>\n",
       "      <td>NaN</td>\n",
       "    </tr>\n",
       "    <tr>\n",
       "      <th>7</th>\n",
       "      <td>981101.0</td>\n",
       "      <td>NaN</td>\n",
       "      <td>6489</td>\n",
       "      <td>30/07/2022 21:30:34</td>\n",
       "      <td>30/07/2022 22:23:41</td>\n",
       "      <td>NaN</td>\n",
       "      <td>6,5</td>\n",
       "      <td>2</td>\n",
       "      <td>LOCA</td>\n",
       "      <td>JESSICA</td>\n",
       "    </tr>\n",
       "    <tr>\n",
       "      <th>8</th>\n",
       "      <td>NaN</td>\n",
       "      <td>111</td>\n",
       "      <td>AGUA SEM GAS</td>\n",
       "      <td>1</td>\n",
       "      <td>6,5</td>\n",
       "      <td>6,5</td>\n",
       "      <td>30/07/2022 21:30:34</td>\n",
       "      <td>JESSICA</td>\n",
       "      <td>981101</td>\n",
       "      <td>NaN</td>\n",
       "    </tr>\n",
       "    <tr>\n",
       "      <th>9</th>\n",
       "      <td>981001.0</td>\n",
       "      <td>NaN</td>\n",
       "      <td>6488</td>\n",
       "      <td>30/07/2022 21:36:52</td>\n",
       "      <td>30/07/2022 21:37:14</td>\n",
       "      <td>NaN</td>\n",
       "      <td>36</td>\n",
       "      <td>3</td>\n",
       "      <td>LOCA</td>\n",
       "      <td>MARCIO</td>\n",
       "    </tr>\n",
       "  </tbody>\n",
       "</table>\n",
       "</div>"
      ],
      "text/plain": [
       "   Cod Venda     NFe                       NFCe           Data Venda  \\\n",
       "0        NaN  Código                    Produto                 Qtde   \n",
       "1   981201.0     NaN                       6490  30/07/2022 20:02:56   \n",
       "2        NaN     421  BURRATA COM JAMON E VERDE                    1   \n",
       "3        NaN      41              PORÇAO NACHOS                    1   \n",
       "4        NaN      97  JARRA SANGRIA LOCA SUMMER                    1   \n",
       "5        NaN     406            LULAS EMPANADAS                    1   \n",
       "6        NaN       2       RISOTINHO DE CAMARÃO                    1   \n",
       "7   981101.0     NaN                       6489  30/07/2022 21:30:34   \n",
       "8        NaN     111               AGUA SEM GAS                    1   \n",
       "9   981001.0     NaN                       6488  30/07/2022 21:36:52   \n",
       "\n",
       "      Data Recebimento  Nome Cliente       Valor Recebido   Operação  \\\n",
       "0            Vr. Total  Vr. Unitário      Hora Lançamento  Atendente   \n",
       "1  30/07/2022 22:58:00           NaN                  209          1   \n",
       "2                   49            49  30/07/2022 20:03:12    JESSICA   \n",
       "3                   15            15  30/07/2022 20:17:28    JESSICA   \n",
       "4                   55            55  30/07/2022 20:22:20    GABRIEL   \n",
       "5                   38            38  30/07/2022 21:22:51    JESSICA   \n",
       "6                   52            52  30/07/2022 22:26:07    JESSICA   \n",
       "7  30/07/2022 22:23:41           NaN                  6,5          2   \n",
       "8                  6,5           6,5  30/07/2022 21:30:34    JESSICA   \n",
       "9  30/07/2022 21:37:14           NaN                   36          3   \n",
       "\n",
       "  Tipo Operação Vendedor  \n",
       "0      CO_VENDA      NaN  \n",
       "1          LOCA  JESSICA  \n",
       "2        981201      NaN  \n",
       "3        981201      NaN  \n",
       "4        981201      NaN  \n",
       "5        981201      NaN  \n",
       "6        981201      NaN  \n",
       "7          LOCA  JESSICA  \n",
       "8        981101      NaN  \n",
       "9          LOCA   MARCIO  "
      ]
     },
     "execution_count": 9,
     "metadata": {},
     "output_type": "execute_result"
    }
   ],
   "source": [
    "transactions.head(10)"
   ]
  },
  {
   "cell_type": "code",
   "execution_count": 10,
   "metadata": {},
   "outputs": [],
   "source": [
    "# renomeei a coluna 'Tipo Operação' para 'venda'.\n",
    "transactions.rename(columns = {'Tipo Operação':'venda'}, inplace = True)"
   ]
  },
  {
   "cell_type": "code",
   "execution_count": 11,
   "metadata": {},
   "outputs": [],
   "source": [
    "# Pandas Drop Rows Based on Column Value\n",
    "# https://sparkbyexamples.com/pandas/pandas-delete-rows-based-on-column-value/\n",
    "transactions.drop(transactions[transactions['venda'] == 'CO_VENDA'].index, inplace = True)"
   ]
  },
  {
   "cell_type": "code",
   "execution_count": 12,
   "metadata": {},
   "outputs": [],
   "source": [
    "# renomeei a coluna 'Cod Venda' para 'prim_col'.\n",
    "transactions.rename(columns = {'Cod Venda':'prim_col'}, inplace = True)"
   ]
  },
  {
   "cell_type": "code",
   "execution_count": 13,
   "metadata": {},
   "outputs": [],
   "source": [
    "# If 'prim_col' value is not empty, set the value of column 'venda' to the value of column 'prim_col', else value of column 'venda' stays the same\n",
    "transactions['venda'] = transactions.apply(lambda row: row['prim_col'] if row['venda'] == 'LOCA' else row['venda'], axis=1)\n",
    "\n",
    "# If 'prim_col' value is not empty, set the value of column 'venda' to the value of column 'prim_col', else value of column 'venda' stays the same\n",
    "transactions['venda'] = transactions.apply(lambda row: row['prim_col'] if row['venda'] == 'Balcao' else row['venda'], axis=1)\n",
    "\n",
    "# Vamos analisar cada parte dessa linha:\n",
    "#transactions['venda']: Estamos nos referindo à coluna 'venda' do DataFrame transactions.\n",
    "# Essa coluna será atualizada com base no resultado da operação que será realizada a seguir.\n",
    "#transactions.apply(...): O método apply() é usado para aplicar uma função a todas as linhas \n",
    "# (ou colunas) de um DataFrame. Neste caso, a função está sendo aplicada às linhas, conforme\n",
    "# especificado pelo argumento axis=1.\n",
    "#lambda row: ...: Estamos usando uma função lambda, que é uma função anônima e de uso único.\n",
    "# Essa função aceita um argumento chamado row, que representa uma linha do DataFrame transactions.\n",
    "#row['prim_col'] if row['venda'] == 'LOCA' else row['venda']: Esta é a lógica da função lambda.\n",
    "# Estamos usando uma expressão condicional para verificar se o valor da coluna 'venda' na\n",
    "# linha atual (row['venda']) é igual a 'LOCA'. Se for verdade, o valor da coluna 'prim_col'\n",
    "# na mesma linha (row['prim_col']) será usado como resultado. Caso contrário, o próprio valor da coluna 'venda' será mantido."
   ]
  },
  {
   "cell_type": "code",
   "execution_count": 14,
   "metadata": {},
   "outputs": [],
   "source": [
    "# Função para verificar se o valor é uma string e contém apenas letras, testando se o código da celula anterior funcionou\n",
    "def is_string_with_letters(value):\n",
    "    return isinstance(value, str) and value.isalpha()\n",
    "\n",
    "# Aplicando o filtro para manter apenas as linhas onde o valor da coluna 'venda' é uma string e contém apenas letras\n",
    "filtered_transactions = transactions[transactions['venda'].apply(is_string_with_letters)]\n",
    "\n",
    "# filtered_transactions"
   ]
  },
  {
   "cell_type": "code",
   "execution_count": 15,
   "metadata": {},
   "outputs": [],
   "source": [
    "# Função para verificar se o valor é uma data\n",
    "def is_date(value):\n",
    "    try:\n",
    "        pd.to_datetime(value)\n",
    "        return True\n",
    "    except ValueError:\n",
    "        return False\n",
    "\n",
    "# Função para aplicar à coluna\n",
    "def copy_date_or_set_nd(value):\n",
    "    return value if is_date(value) else 'nd'"
   ]
  },
  {
   "cell_type": "code",
   "execution_count": 16,
   "metadata": {},
   "outputs": [],
   "source": [
    "# Criar a nova coluna 'data_venda' aplicando a função copy_date_or_set_nd\n",
    "transactions['data_venda'] = transactions['Data Venda'].apply(copy_date_or_set_nd)"
   ]
  },
  {
   "cell_type": "code",
   "execution_count": 17,
   "metadata": {},
   "outputs": [],
   "source": [
    "# Criar a nova coluna 'data_recebimento' aplicando a função copy_date_or_set_nd\n",
    "transactions['data_recebimento'] = transactions['Data Recebimento'].apply(copy_date_or_set_nd)"
   ]
  },
  {
   "cell_type": "code",
   "execution_count": 18,
   "metadata": {},
   "outputs": [],
   "source": [
    "# Convert the \"venda\" variable from object type to integer type\n",
    "transactions['venda'] = np.int64(transactions['venda'])"
   ]
  },
  {
   "cell_type": "code",
   "execution_count": 19,
   "metadata": {},
   "outputs": [],
   "source": [
    "# Agrupar o DataFrame pela coluna 'venda'\n",
    "grouped = transactions.groupby('venda')\n",
    "\n",
    "# Para cada grupo, encontrar a primeira data na coluna \"data_venda\" e atualizar todas as linhas do grupo\n",
    "for group_name, group_df in grouped:\n",
    "    first_date = group_df['data_venda'].apply(is_date).idxmax()\n",
    "    matching_date = transactions.loc[first_date, 'data_venda']\n",
    "    \n",
    "    transactions.loc[transactions['venda'] == group_name, 'data_venda'] = matching_date"
   ]
  },
  {
   "cell_type": "code",
   "execution_count": 20,
   "metadata": {},
   "outputs": [],
   "source": [
    "# Agrupar o DataFrame pela coluna 'venda'\n",
    "grouped = transactions.groupby('venda')\n",
    "\n",
    "# Para cada grupo, encontrar a primeira data na coluna \"data_recebimento\" e atualizar todas as linhas do grupo\n",
    "for group_name, group_df in grouped:\n",
    "    first_date_recebimento = group_df['data_recebimento'].apply(is_date).idxmax()\n",
    "    matching_date = transactions.loc[first_date_recebimento, 'data_recebimento']\n",
    "    \n",
    "    transactions.loc[transactions['venda'] == group_name, 'data_recebimento'] = matching_date"
   ]
  },
  {
   "cell_type": "code",
   "execution_count": 21,
   "metadata": {},
   "outputs": [],
   "source": [
    "# Agrupando as linhas com base na coluna 'venda'\n",
    "grouped_transactions = transactions.groupby('venda')\n",
    "\n",
    "# Preenchendo os valores nulos na coluna 'Vendedor' com o primeiro valor não nulo encontrado dentro do grupo\n",
    "transactions['Vendedor'] = grouped_transactions['Vendedor'].transform(lambda x: x.ffill().bfill())\n"
   ]
  },
  {
   "cell_type": "code",
   "execution_count": 22,
   "metadata": {},
   "outputs": [],
   "source": [
    "# Deletando a primeira coluna, pois não será mais utilizada\n",
    "del transactions['prim_col']"
   ]
  },
  {
   "cell_type": "code",
   "execution_count": 23,
   "metadata": {},
   "outputs": [],
   "source": [
    "# Deletando linhas com valor NaN na coluna 'NFe'\n",
    "transactions = transactions.dropna(subset=['NFe'])"
   ]
  },
  {
   "cell_type": "code",
   "execution_count": 24,
   "metadata": {},
   "outputs": [],
   "source": [
    "# Renomeando várias colunas\n",
    "transactions = transactions.rename(columns={\n",
    "    'NFe': 'cod_produto',\n",
    "    'NFCe': 'produto',\n",
    "    'Data Venda': 'quantidade',\n",
    "    'Data Recebimento' : 'valor_unit',\n",
    "    'Nome Cliente': 'total_item',\n",
    "    'Valor Recebido': 'data_lanc',\n",
    "    'Operação': 'atendente',\n",
    "    'Vendedor': 'vendedor'\n",
    "})"
   ]
  },
  {
   "cell_type": "code",
   "execution_count": 25,
   "metadata": {},
   "outputs": [],
   "source": [
    "# Aplicando o filtro para marcar as linhas onde o valor da coluna 'quantidade' é igual a uma data\n",
    "filtered_transactions_quantidade= transactions[transactions['quantidade'].apply(is_date)]\n",
    "# depois quero deletar essa linha filtrada\n",
    "transactions.drop(filtered_transactions_quantidade.index, inplace=True)"
   ]
  },
  {
   "attachments": {},
   "cell_type": "markdown",
   "metadata": {},
   "source": [
    "## Mostrando se houveram eventos Corporativos"
   ]
  },
  {
   "cell_type": "code",
   "execution_count": 26,
   "metadata": {},
   "outputs": [
    {
     "data": {
      "text/html": [
       "<div>\n",
       "<style scoped>\n",
       "    .dataframe tbody tr th:only-of-type {\n",
       "        vertical-align: middle;\n",
       "    }\n",
       "\n",
       "    .dataframe tbody tr th {\n",
       "        vertical-align: top;\n",
       "    }\n",
       "\n",
       "    .dataframe thead th {\n",
       "        text-align: right;\n",
       "    }\n",
       "</style>\n",
       "<table border=\"1\" class=\"dataframe\">\n",
       "  <thead>\n",
       "    <tr style=\"text-align: right;\">\n",
       "      <th></th>\n",
       "      <th>cod_produto</th>\n",
       "      <th>produto</th>\n",
       "      <th>quantidade</th>\n",
       "      <th>valor_unit</th>\n",
       "      <th>total_item</th>\n",
       "      <th>data_lanc</th>\n",
       "      <th>atendente</th>\n",
       "      <th>venda</th>\n",
       "      <th>vendedor</th>\n",
       "      <th>data_venda</th>\n",
       "      <th>data_recebimento</th>\n",
       "    </tr>\n",
       "  </thead>\n",
       "  <tbody>\n",
       "    <tr>\n",
       "      <th>305</th>\n",
       "      <td>245</td>\n",
       "      <td>EVENTO CORPORATIVO</td>\n",
       "      <td>1</td>\n",
       "      <td>3400</td>\n",
       "      <td>3400</td>\n",
       "      <td>01/07/2022 13:36:21</td>\n",
       "      <td>NaN</td>\n",
       "      <td>976201</td>\n",
       "      <td>NaN</td>\n",
       "      <td>01/07/2022 13:36:21</td>\n",
       "      <td>01/07/2022 13:36:21</td>\n",
       "    </tr>\n",
       "  </tbody>\n",
       "</table>\n",
       "</div>"
      ],
      "text/plain": [
       "    cod_produto             produto quantidade valor_unit total_item  \\\n",
       "305         245  EVENTO CORPORATIVO          1       3400       3400   \n",
       "\n",
       "               data_lanc atendente   venda vendedor           data_venda  \\\n",
       "305  01/07/2022 13:36:21       NaN  976201      NaN  01/07/2022 13:36:21   \n",
       "\n",
       "        data_recebimento  \n",
       "305  01/07/2022 13:36:21  "
      ]
     },
     "execution_count": 26,
     "metadata": {},
     "output_type": "execute_result"
    }
   ],
   "source": [
    "# Detectando Eventos Corporativos, nesse tipo de registro teremos um valor para a variável atendente = NaN\n",
    "linhas_com_valores_em_branco = transactions[transactions.isnull().any(axis=1)]\n",
    "linhas_com_valores_em_branco"
   ]
  },
  {
   "cell_type": "code",
   "execution_count": 27,
   "metadata": {},
   "outputs": [],
   "source": [
    "# depois quero deletar essa linha filtrada de eventos corporativos\n",
    "transactions.drop(linhas_com_valores_em_branco.index, inplace=True)"
   ]
  },
  {
   "cell_type": "code",
   "execution_count": 28,
   "metadata": {},
   "outputs": [],
   "source": [
    "# Convert coluna \"quantidade\" variable from object type to integer type\n",
    "transactions['quantidade'] = np.int64(transactions['quantidade'])"
   ]
  },
  {
   "cell_type": "code",
   "execution_count": 29,
   "metadata": {},
   "outputs": [],
   "source": [
    "# change the decimal separator of the the variable \"valor_unit\" from \",\" to \".\"\n",
    "# https://cursos.alura.com.br/forum/topico-transformar-pontos-por-virgulas-dentro-de-um-dataframe-121090\n",
    "transactions['valor_unit'] = transactions['valor_unit'].str.replace(\",\",\".\")\n",
    "transactions['valor_unit'] = transactions['valor_unit'].astype(float)"
   ]
  },
  {
   "cell_type": "code",
   "execution_count": 30,
   "metadata": {},
   "outputs": [],
   "source": [
    "# change the decimal separator of the the variable \"valor_unit\" from \",\" to \".\"\n",
    "# https://cursos.alura.com.br/forum/topico-transformar-pontos-por-virgulas-dentro-de-um-dataframe-121090\n",
    "transactions['total_item'] = transactions['total_item'].str.replace(\",\",\".\")\n",
    "transactions['total_item'] = transactions['total_item'].astype(float)"
   ]
  },
  {
   "cell_type": "code",
   "execution_count": 31,
   "metadata": {},
   "outputs": [],
   "source": [
    "transactions['data_lanc'] = pd.to_datetime(transactions['data_lanc'], format='%d/%m/%Y %H:%M:%S')"
   ]
  },
  {
   "cell_type": "code",
   "execution_count": 32,
   "metadata": {},
   "outputs": [],
   "source": [
    "transactions['data_venda'] = pd.to_datetime(transactions['data_venda'], format='%d/%m/%Y %H:%M:%S')"
   ]
  },
  {
   "cell_type": "code",
   "execution_count": 33,
   "metadata": {},
   "outputs": [],
   "source": [
    "transactions['data_recebimento'] = pd.to_datetime(transactions['data_recebimento'], format='%d/%m/%Y %H:%M:%S')"
   ]
  },
  {
   "attachments": {},
   "cell_type": "markdown",
   "metadata": {},
   "source": [
    "## Criação de colunas para facilitar a análise"
   ]
  },
  {
   "cell_type": "code",
   "execution_count": 34,
   "metadata": {},
   "outputs": [],
   "source": [
    "# Creating a horario column that is a copy of data_hora and coverting it to datetime and extracting only the day;\n",
    "transactions['data'] = (transactions['data_lanc'])\n",
    "transactions['data'] = transactions['data'].dt.date"
   ]
  },
  {
   "cell_type": "code",
   "execution_count": 35,
   "metadata": {},
   "outputs": [],
   "source": [
    "# add hora and minuto column; using class attributes .hour and .minute\n",
    "\n",
    "transactions['hora'] = transactions.data_lanc.dt.hour\n",
    "transactions['minuto'] = transactions.data_lanc.dt.minute"
   ]
  },
  {
   "cell_type": "code",
   "execution_count": 36,
   "metadata": {},
   "outputs": [],
   "source": [
    "transactions['hora_minuto']=pd.to_datetime(transactions['data_lanc'])\n",
    "\n",
    "transactions['hora_minuto'] = transactions['hora_minuto'].dt.time"
   ]
  },
  {
   "cell_type": "code",
   "execution_count": 39,
   "metadata": {},
   "outputs": [],
   "source": [
    "# ### Extracting only the Date from 'data_lanc' column as Datetime format\n",
    "transactions['data_normal'] = transactions['data_lanc'].dt.normalize()"
   ]
  },
  {
   "cell_type": "code",
   "execution_count": 40,
   "metadata": {},
   "outputs": [],
   "source": [
    "# Definindo a função time_of_day\n",
    "def time_of_day(hora):\n",
    "    \"\"\"\n",
    "    Determina se a  compra foi feita pela manhã, tarde ou noite.\n",
    "    \"\"\"\n",
    "    \n",
    "    if hora < 12:\n",
    "        \n",
    "        return 'manhã'\n",
    "    \n",
    "    elif hora < 17:\n",
    "        \n",
    "        return 'tarde'\n",
    "    \n",
    "    else:\n",
    "        \n",
    "        return 'noite'\n",
    "    \n",
    "transactions['periodo_do_dia'] = transactions.hora.apply(time_of_day)"
   ]
  },
  {
   "cell_type": "code",
   "execution_count": 41,
   "metadata": {},
   "outputs": [],
   "source": [
    "# Add a day of week variable and a second classifier of weekday or weekend\n",
    "transactions['dia_da_semana'] = [calendar.day_name[i.weekday()] for i in transactions['data_lanc']]"
   ]
  },
  {
   "cell_type": "code",
   "execution_count": 42,
   "metadata": {},
   "outputs": [],
   "source": [
    "# Add a tipo_de_dia variable (FS= final de semana or DU=  dia útil)\n",
    "transactions['tipo_de_dia'] = ['FS' if (i == 'domingo') | (i == 'sábado') else 'DU' for i in \n",
    "                                                                            transactions['dia_da_semana']]"
   ]
  },
  {
   "attachments": {},
   "cell_type": "markdown",
   "metadata": {},
   "source": [
    "## Verificando divergência dos dados"
   ]
  },
  {
   "cell_type": "code",
   "execution_count": 44,
   "metadata": {},
   "outputs": [],
   "source": [
    "# Verificando se o valor \"total_item\" é igual a: \"quantidade\" * \"valor_unit\"\n",
    "\n",
    "transactions[\"total_item_verif\"] = transactions['quantidade']* transactions['valor_unit']"
   ]
  },
  {
   "cell_type": "code",
   "execution_count": 45,
   "metadata": {},
   "outputs": [],
   "source": [
    "# Continuando o item anterior\n",
    "# https://www.dataquest.io/blog/tutorial-add-column-pandas-dataframe-based-on-if-else-condition/\n",
    "\n",
    "transactions['confirm'] = np.where(transactions['total_item'] > transactions['total_item_verif'], True, False)"
   ]
  },
  {
   "cell_type": "code",
   "execution_count": 46,
   "metadata": {},
   "outputs": [],
   "source": [
    "#### Creating a Column diference\n",
    "transactions['diference']=(transactions['total_item'])-(transactions['total_item_verif'])"
   ]
  },
  {
   "cell_type": "code",
   "execution_count": 47,
   "metadata": {},
   "outputs": [
    {
     "name": "stdout",
     "output_type": "stream",
     "text": [
      "total_item          0.0\n",
      "total_item_verif    0.0\n",
      "diference           0.0\n",
      "dtype: float64\n"
     ]
    }
   ],
   "source": [
    "# continuando o item anterior\n",
    "resumo = transactions.loc[transactions[\"confirm\"] == True, [\"total_item\", \"total_item_verif\", 'diference']].sum()\n",
    "\n",
    "print (resumo)"
   ]
  },
  {
   "attachments": {},
   "cell_type": "markdown",
   "metadata": {},
   "source": [
    "Não encontramos nenhuma divergência entre os valores ao efetuarmos a multiplicação do valor de venda do item por sua quantidade, e compararmos com o valor expresso na coluna \"total_item\", não encontramos nenhuma divergência, o valor dessa diferença é zero."
   ]
  }
 ],
 "metadata": {
  "kernelspec": {
   "display_name": "Python 3",
   "language": "python",
   "name": "python3"
  },
  "language_info": {
   "codemirror_mode": {
    "name": "ipython",
    "version": 3
   },
   "file_extension": ".py",
   "mimetype": "text/x-python",
   "name": "python",
   "nbconvert_exporter": "python",
   "pygments_lexer": "ipython3",
   "version": "3.10.6"
  },
  "orig_nbformat": 4
 },
 "nbformat": 4,
 "nbformat_minor": 2
}
