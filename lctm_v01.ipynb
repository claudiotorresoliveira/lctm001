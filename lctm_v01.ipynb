{
 "cells": [
  {
   "attachments": {},
   "cell_type": "markdown",
   "metadata": {},
   "source": [
    "## **Loca Como Tu Madre**"
   ]
  },
  {
   "cell_type": "code",
   "execution_count": 130,
   "metadata": {},
   "outputs": [
    {
     "data": {
      "text/html": [
       "        <script type=\"text/javascript\">\n",
       "        window.PlotlyConfig = {MathJaxConfig: 'local'};\n",
       "        if (window.MathJax && window.MathJax.Hub && window.MathJax.Hub.Config) {window.MathJax.Hub.Config({SVG: {font: \"STIX-Web\"}});}\n",
       "        if (typeof require !== 'undefined') {\n",
       "        require.undef(\"plotly\");\n",
       "        requirejs.config({\n",
       "            paths: {\n",
       "                'plotly': ['https://cdn.plot.ly/plotly-2.18.2.min']\n",
       "            }\n",
       "        });\n",
       "        require(['plotly'], function(Plotly) {\n",
       "            window._Plotly = Plotly;\n",
       "        });\n",
       "        }\n",
       "        </script>\n",
       "        "
      ]
     },
     "metadata": {},
     "output_type": "display_data"
    }
   ],
   "source": [
    "from IPython import display\n",
    "\n",
    "import pandas as pd\n",
    "import numpy as np\n",
    "import matplotlib.pyplot as plt\n",
    "# import seaborn as sns; sns.set()\n",
    "import datetime\n",
    "import nbformat\n",
    "import plotly.express as px\n",
    "from plotly.offline import download_plotlyjs, init_notebook_mode, plot, iplot\n",
    "init_notebook_mode (connected = True )\n",
    "import plotly.graph_objs as go\n",
    "import plotly.offline as py\n",
    "from matplotlib.backends.backend_pdf import PdfPages\n",
    "from fpdf import FPDF\n",
    "pd.options.display.max_columns = None\n",
    "pd.options.display.max_rows = None\n",
    "import locale\n",
    "import plotly.io as pio\n",
    "from datetime import date\n",
    "import calendar"
   ]
  },
  {
   "cell_type": "code",
   "execution_count": 131,
   "metadata": {},
   "outputs": [],
   "source": [
    "# 1) git log --pretty=format:%cI,%h,%an,%ae,%s > /home/claudio/@LCTM/commits_LCTM.csv\n",
    "# 2) abrir excel e e na aba dados, importar o arquivo gerado pelo código acima\n"
   ]
  },
  {
   "cell_type": "code",
   "execution_count": 132,
   "metadata": {},
   "outputs": [
    {
     "data": {
      "image/jpeg": "[encoded data removed]",
      "text/plain": [
       "<IPython.core.display.Image object>"
      ]
     },
     "execution_count": 132,
     "metadata": {
      "image/jpeg": {
       "width": 215
      }
     },
     "output_type": "execute_result"
    }
   ],
   "source": [
    "display.Image(\"/home/claudio/@LCTM/lctm001/lctm_logo.jpg\",width=215)"
   ]
  },
  {
   "cell_type": "code",
   "execution_count": 133,
   "metadata": {},
   "outputs": [],
   "source": [
    "# setar locale para português para que os dias da semana retornem em portugês no código abaixo.\n",
    "locale.setlocale(locale.LC_ALL, 'pt_BR.utf-8')\n",
    "\n",
    "# Importing each csv file and then joinning then, \n",
    "# as the files for other months are send by the client we can insert each one at the end of this code\n",
    "\n",
    "df1 = pd.read_csv(r'/home/claudio/@LCTM/lctm001/2022_07.csv', encoding=\"ISO-8859-1\", sep = ';')\n",
    "df2 = pd.read_csv(r'/home/claudio/@LCTM/lctm001/2022_08.csv', encoding=\"ISO-8859-1\", sep = ';')\n",
    "df3 = pd.read_csv(r'/home/claudio/@LCTM/lctm001/2022_09.csv', encoding=\"ISO-8859-1\", sep = ';')\n",
    "df4 = pd.read_csv(r'/home/claudio/@LCTM/lctm001/2022_10.csv', encoding=\"ISO-8859-1\", sep = ';')\n",
    "df5 = pd.read_csv(r'/home/claudio/@LCTM/lctm001/2022_11.csv', encoding=\"ISO-8859-1\", sep = ';')\n",
    "df6 = pd.read_csv(r'/home/claudio/@LCTM/lctm001/2022_12.csv', encoding=\"ISO-8859-1\", sep = ';')\n",
    "df7 = pd.read_csv(r'/home/claudio/@LCTM/lctm001/2023_01.csv', encoding=\"ISO-8859-1\", sep = ';')"
   ]
  },
  {
   "cell_type": "code",
   "execution_count": 134,
   "metadata": {},
   "outputs": [],
   "source": [
    "transactions = pd.concat([df1, df2, df3, df4, df5, df6, df7], ignore_index=True)"
   ]
  },
  {
   "cell_type": "code",
   "execution_count": 135,
   "metadata": {},
   "outputs": [],
   "source": [
    "## DROPPING THE ROWS THAT ALL COLUMN VALUES ARE NULL\n",
    "#  https://www.youtube.com/watch?v=uDr67HBIPz8&t=818s\n",
    "\n",
    "transactions = transactions.dropna(how='all')"
   ]
  },
  {
   "cell_type": "code",
   "execution_count": 136,
   "metadata": {},
   "outputs": [],
   "source": [
    "del transactions['Vr. Desconto']\n",
    "del transactions['Valor Venda']\n",
    "del transactions['Tx Serviço']\n",
    "del transactions[\"Caixa\"]\n",
    "del transactions['Operador']\n",
    "del transactions['Data Cancelamento']\n",
    "del transactions['Operador Cancelamento']\n",
    "del transactions['Operador Desconto']\n",
    "del transactions['Operador Desc Repique']\n",
    "del transactions['NRC']\n",
    "del transactions['Comandas']\n",
    "del transactions['Série NFCE']\n",
    "del transactions['Série NFE']\n",
    "del transactions['Integração']\n",
    "del transactions['Observação']\n",
    "del transactions['CO_CLIENTE']\n",
    "del transactions['Atendente']\n",
    "del transactions['IC_REVENDA']"
   ]
  },
  {
   "cell_type": "code",
   "execution_count": 137,
   "metadata": {},
   "outputs": [],
   "source": [
    "# renomeei a coluna 'Tipo Operação' para 'venda'.\n",
    "transactions.rename(columns = {'Tipo Operação':'venda'}, inplace = True)"
   ]
  },
  {
   "cell_type": "code",
   "execution_count": 138,
   "metadata": {},
   "outputs": [],
   "source": [
    "# Pandas Drop Rows Based on Column Value\n",
    "# https://sparkbyexamples.com/pandas/pandas-delete-rows-based-on-column-value/\n",
    "transactions.drop(transactions[transactions['venda'] == 'CO_VENDA'].index, inplace = True)"
   ]
  },
  {
   "cell_type": "code",
   "execution_count": 139,
   "metadata": {},
   "outputs": [],
   "source": [
    "# renomeei a coluna 'Cod Venda' para 'prim_col'.\n",
    "transactions.rename(columns = {'Cod Venda':'prim_col'}, inplace = True)"
   ]
  },
  {
   "cell_type": "code",
   "execution_count": 140,
   "metadata": {},
   "outputs": [],
   "source": [
    "# If 'prim_col' value is not empty, set the value of column 'venda' to the value of column 'prim_col', else value of column 'venda' stays the same\n",
    "transactions['venda'] = transactions.apply(lambda row: row['prim_col'] if row['venda'] == 'LOCA' else row['venda'], axis=1)\n",
    "\n",
    "# If 'prim_col' value is not empty, set the value of column 'venda' to the value of column 'prim_col', else value of column 'venda' stays the same\n",
    "transactions['venda'] = transactions.apply(lambda row: row['prim_col'] if row['venda'] == 'Balcao' else row['venda'], axis=1)\n",
    "\n",
    "# Vamos analisar cada parte dessa linha:\n",
    "#transactions['venda']: Estamos nos referindo à coluna 'venda' do DataFrame transactions.\n",
    "# Essa coluna será atualizada com base no resultado da operação que será realizada a seguir.\n",
    "#transactions.apply(...): O método apply() é usado para aplicar uma função a todas as linhas \n",
    "# (ou colunas) de um DataFrame. Neste caso, a função está sendo aplicada às linhas, conforme\n",
    "# especificado pelo argumento axis=1.\n",
    "#lambda row: ...: Estamos usando uma função lambda, que é uma função anônima e de uso único.\n",
    "# Essa função aceita um argumento chamado row, que representa uma linha do DataFrame transactions.\n",
    "#row['prim_col'] if row['venda'] == 'LOCA' else row['venda']: Esta é a lógica da função lambda.\n",
    "# Estamos usando uma expressão condicional para verificar se o valor da coluna 'venda' na\n",
    "# linha atual (row['venda']) é igual a 'LOCA'. Se for verdade, o valor da coluna 'prim_col'\n",
    "# na mesma linha (row['prim_col']) será usado como resultado. Caso contrário, o próprio valor da coluna 'venda' será mantido."
   ]
  },
  {
   "cell_type": "code",
   "execution_count": 141,
   "metadata": {},
   "outputs": [],
   "source": [
    "# Função para verificar se o valor é uma string e contém apenas letras, testando se o código da celula anterior funcionou\n",
    "def is_string_with_letters(value):\n",
    "    return isinstance(value, str) and value.isalpha()\n",
    "\n",
    "# Aplicando o filtro para manter apenas as linhas onde o valor da coluna 'venda' é uma string e contém apenas letras\n",
    "filtered_transactions = transactions[transactions['venda'].apply(is_string_with_letters)]\n",
    "\n",
    "# filtered_transactions"
   ]
  },
  {
   "cell_type": "code",
   "execution_count": 142,
   "metadata": {},
   "outputs": [],
   "source": [
    "# Função para verificar se o valor é uma data\n",
    "def is_date(value):\n",
    "    try:\n",
    "        pd.to_datetime(value)\n",
    "        return True\n",
    "    except ValueError:\n",
    "        return False\n",
    "\n",
    "# Função para aplicar à coluna\n",
    "def copy_date_or_set_nd(value):\n",
    "    return value if is_date(value) else 'nd'"
   ]
  },
  {
   "cell_type": "code",
   "execution_count": 143,
   "metadata": {},
   "outputs": [],
   "source": [
    "# Criar a nova coluna 'data_venda' aplicando a função copy_date_or_set_nd\n",
    "transactions['data_venda'] = transactions['Data Venda'].apply(copy_date_or_set_nd)"
   ]
  },
  {
   "cell_type": "code",
   "execution_count": 144,
   "metadata": {},
   "outputs": [],
   "source": [
    "# Criar a nova coluna 'data_recebimento' aplicando a função copy_date_or_set_nd\n",
    "transactions['data_recebimento'] = transactions['Data Recebimento'].apply(copy_date_or_set_nd)"
   ]
  },
  {
   "cell_type": "code",
   "execution_count": 145,
   "metadata": {},
   "outputs": [],
   "source": [
    "# Convert the \"venda\" variable from object type to integer type\n",
    "transactions['venda'] = np.int64(transactions['venda'])"
   ]
  },
  {
   "cell_type": "code",
   "execution_count": 146,
   "metadata": {},
   "outputs": [],
   "source": [
    "# Agrupar o DataFrame pela coluna 'venda'\n",
    "grouped = transactions.groupby('venda')\n",
    "\n",
    "# Para cada grupo, encontrar a primeira data na coluna \"data_venda\" e atualizar todas as linhas do grupo\n",
    "for group_name, group_df in grouped:\n",
    "    first_date = group_df['data_venda'].apply(is_date).idxmax()\n",
    "    matching_date = transactions.loc[first_date, 'data_venda']\n",
    "    \n",
    "    transactions.loc[transactions['venda'] == group_name, 'data_venda'] = matching_date"
   ]
  },
  {
   "cell_type": "code",
   "execution_count": 147,
   "metadata": {},
   "outputs": [],
   "source": [
    "# Agrupar o DataFrame pela coluna 'venda'\n",
    "grouped = transactions.groupby('venda')\n",
    "\n",
    "# Para cada grupo, encontrar a primeira data na coluna \"data_recebimento\" e atualizar todas as linhas do grupo\n",
    "for group_name, group_df in grouped:\n",
    "    first_date_recebimento = group_df['data_recebimento'].apply(is_date).idxmax()\n",
    "    matching_date = transactions.loc[first_date_recebimento, 'data_recebimento']\n",
    "    \n",
    "    transactions.loc[transactions['venda'] == group_name, 'data_recebimento'] = matching_date"
   ]
  },
  {
   "cell_type": "code",
   "execution_count": 148,
   "metadata": {},
   "outputs": [],
   "source": [
    "# Agrupando as linhas com base na coluna 'venda'\n",
    "grouped_transactions = transactions.groupby('venda')\n",
    "\n",
    "# Preenchendo os valores nulos na coluna 'Vendedor' com o primeiro valor não nulo encontrado dentro do grupo\n",
    "transactions['Vendedor'] = grouped_transactions['Vendedor'].transform(lambda x: x.ffill().bfill())\n"
   ]
  },
  {
   "cell_type": "code",
   "execution_count": 149,
   "metadata": {},
   "outputs": [],
   "source": [
    "# Deletando a primeira coluna, pois não será mais utilizada\n",
    "del transactions['prim_col']"
   ]
  },
  {
   "cell_type": "code",
   "execution_count": 150,
   "metadata": {},
   "outputs": [],
   "source": [
    "# Deletando linhas com valor NaN na coluna 'NFe'\n",
    "transactions = transactions.dropna(subset=['NFe'])"
   ]
  },
  {
   "cell_type": "code",
   "execution_count": 151,
   "metadata": {},
   "outputs": [],
   "source": [
    "# Renomeando várias colunas\n",
    "transactions = transactions.rename(columns={\n",
    "    'NFe': 'cod_produto',\n",
    "    'NFCe': 'produto',\n",
    "    'Data Venda': 'quantidade',\n",
    "    'Data Recebimento' : 'valor_unit',\n",
    "    'Nome Cliente': 'total_item',\n",
    "    'Valor Recebido': 'data_lanc',\n",
    "    'Operação': 'atendente',\n",
    "    'Vendedor': 'vendedor'\n",
    "})"
   ]
  },
  {
   "cell_type": "code",
   "execution_count": 152,
   "metadata": {},
   "outputs": [],
   "source": [
    "# Aplicando o filtro para marcar as linhas onde o valor da coluna 'quantidade' é igual a uma data\n",
    "filtered_transactions_quantidade= transactions[transactions['quantidade'].apply(is_date)]\n",
    "# depois quero deletar essa linha filtrada\n",
    "transactions.drop(filtered_transactions_quantidade.index, inplace=True)"
   ]
  },
  {
   "attachments": {},
   "cell_type": "markdown",
   "metadata": {},
   "source": [
    "### Mostrando se houveram eventos Corporativos"
   ]
  },
  {
   "cell_type": "code",
   "execution_count": 153,
   "metadata": {},
   "outputs": [],
   "source": [
    "# Detectando Eventos Corporativos, nesse tipo de registro teremos um valor para a variável atendente = NaN\n",
    "#linhas_com_valores_em_branco = transactions[transactions.isnull().any(axis=1)]\n",
    "#linhas_com_valores_em_branco"
   ]
  },
  {
   "cell_type": "code",
   "execution_count": 154,
   "metadata": {},
   "outputs": [],
   "source": [
    "# depois quero deletar essa linha filtrada de eventos corporativos\n",
    "# transactions.drop(linhas_com_valores_em_branco.index, inplace=True)"
   ]
  },
  {
   "cell_type": "code",
   "execution_count": 155,
   "metadata": {},
   "outputs": [],
   "source": [
    "# Fazendo algumas conversôes"
   ]
  },
  {
   "cell_type": "code",
   "execution_count": 156,
   "metadata": {},
   "outputs": [],
   "source": [
    "# Convert coluna \"quantidade\" variable from object type to integer type\n",
    "transactions['quantidade'] = np.int64(transactions['quantidade'])"
   ]
  },
  {
   "cell_type": "code",
   "execution_count": 157,
   "metadata": {},
   "outputs": [],
   "source": [
    "# change the decimal separator of the the variable \"valor_unit\" from \",\" to \".\"\n",
    "# https://cursos.alura.com.br/forum/topico-transformar-pontos-por-virgulas-dentro-de-um-dataframe-121090\n",
    "transactions['valor_unit'] = transactions['valor_unit'].str.replace(\",\",\".\")\n",
    "transactions['valor_unit'] = transactions['valor_unit'].astype(float)"
   ]
  },
  {
   "cell_type": "code",
   "execution_count": 158,
   "metadata": {},
   "outputs": [],
   "source": [
    "# change the decimal separator of the the variable \"valor_unit\" from \",\" to \".\"\n",
    "# https://cursos.alura.com.br/forum/topico-transformar-pontos-por-virgulas-dentro-de-um-dataframe-121090\n",
    "transactions['total_item'] = transactions['total_item'].str.replace(\",\",\".\")\n",
    "transactions['total_item'] = transactions['total_item'].astype(float)"
   ]
  },
  {
   "cell_type": "code",
   "execution_count": 159,
   "metadata": {},
   "outputs": [],
   "source": [
    "transactions['data_lanc'] = pd.to_datetime(transactions['data_lanc'], format='%d/%m/%Y %H:%M:%S')"
   ]
  },
  {
   "cell_type": "code",
   "execution_count": 160,
   "metadata": {},
   "outputs": [],
   "source": [
    "transactions['data_venda'] = pd.to_datetime(transactions['data_venda'], format='%d/%m/%Y %H:%M:%S')"
   ]
  },
  {
   "cell_type": "code",
   "execution_count": 161,
   "metadata": {},
   "outputs": [],
   "source": [
    "transactions['data_recebimento'] = pd.to_datetime(transactions['data_recebimento'], format='%d/%m/%Y %H:%M:%S')"
   ]
  },
  {
   "attachments": {},
   "cell_type": "markdown",
   "metadata": {},
   "source": [
    "## Criação de colunas para facilitar a análise"
   ]
  },
  {
   "cell_type": "code",
   "execution_count": 162,
   "metadata": {},
   "outputs": [],
   "source": [
    "# Creating a horario column that is a copy of data_hora and coverting it to datetime and extracting only the day;\n",
    "transactions['data'] = (transactions['data_lanc'])\n",
    "transactions['data'] = transactions['data'].dt.date"
   ]
  },
  {
   "cell_type": "code",
   "execution_count": 163,
   "metadata": {},
   "outputs": [],
   "source": [
    "# add hora and minuto column; using class attributes .hour and .minute\n",
    "\n",
    "transactions['hora'] = transactions.data_lanc.dt.hour\n",
    "transactions['minuto'] = transactions.data_lanc.dt.minute"
   ]
  },
  {
   "cell_type": "code",
   "execution_count": 164,
   "metadata": {},
   "outputs": [],
   "source": [
    "transactions['hora_minuto']=pd.to_datetime(transactions['data_lanc'])\n",
    "\n",
    "transactions['hora_minuto'] = transactions['hora_minuto'].dt.time"
   ]
  },
  {
   "cell_type": "code",
   "execution_count": 165,
   "metadata": {},
   "outputs": [],
   "source": [
    "# ### Extracting only the Date from 'data_lanc' column as Datetime format\n",
    "transactions['data_normal'] = transactions['data_lanc'].dt.normalize()"
   ]
  },
  {
   "cell_type": "code",
   "execution_count": 166,
   "metadata": {},
   "outputs": [],
   "source": [
    "# Definindo a função time_of_day\n",
    "def time_of_day(hora):\n",
    "    \"\"\"\n",
    "    Determina se a  compra foi feita pela manhã, tarde ou noite.\n",
    "    \"\"\"\n",
    "    \n",
    "    if hora < 12:\n",
    "        \n",
    "        return 'manhã'\n",
    "    \n",
    "    elif hora < 17:\n",
    "        \n",
    "        return 'tarde'\n",
    "    \n",
    "    else:\n",
    "        \n",
    "        return 'noite'\n",
    "    \n",
    "transactions['periodo_do_dia'] = transactions.hora.apply(time_of_day)"
   ]
  },
  {
   "cell_type": "code",
   "execution_count": 167,
   "metadata": {},
   "outputs": [],
   "source": [
    "# Add a day of week variable and a second classifier of weekday or weekend\n",
    "transactions['dia_da_semana'] = [calendar.day_name[i.weekday()] for i in transactions['data_lanc']]"
   ]
  },
  {
   "cell_type": "code",
   "execution_count": 168,
   "metadata": {},
   "outputs": [],
   "source": [
    "# Add a tipo_de_dia variable (FS= final de semana or DU=  dia útil)\n",
    "transactions['tipo_de_dia'] = ['FS' if (i == 'domingo') | (i == 'sábado') else 'DU' for i in \n",
    "                                                                            transactions['dia_da_semana']]"
   ]
  },
  {
   "attachments": {},
   "cell_type": "markdown",
   "metadata": {},
   "source": [
    "## Verificando divergência dos dados"
   ]
  },
  {
   "cell_type": "code",
   "execution_count": 169,
   "metadata": {},
   "outputs": [],
   "source": [
    "# Verificando se o valor \"total_item\" é igual a: \"quantidade\" * \"valor_unit\"\n",
    "\n",
    "transactions[\"total_item_verif\"] = transactions['quantidade']* transactions['valor_unit']"
   ]
  },
  {
   "cell_type": "code",
   "execution_count": 170,
   "metadata": {},
   "outputs": [],
   "source": [
    "# Continuando o item anterior\n",
    "# https://www.dataquest.io/blog/tutorial-add-column-pandas-dataframe-based-on-if-else-condition/\n",
    "\n",
    "transactions['confirm'] = np.where(transactions['total_item'] > transactions['total_item_verif'], True, False)"
   ]
  },
  {
   "cell_type": "code",
   "execution_count": 171,
   "metadata": {},
   "outputs": [],
   "source": [
    "#### Creating a Column diference\n",
    "transactions['diference']=(transactions['total_item'])-(transactions['total_item_verif'])"
   ]
  },
  {
   "cell_type": "code",
   "execution_count": 172,
   "metadata": {},
   "outputs": [
    {
     "name": "stdout",
     "output_type": "stream",
     "text": [
      "total_item          0.0\n",
      "total_item_verif    0.0\n",
      "diference           0.0\n",
      "dtype: float64\n"
     ]
    }
   ],
   "source": [
    "# continuando o item anterior\n",
    "resumo = transactions.loc[transactions[\"confirm\"] == True, [\"total_item\", \"total_item_verif\", 'diference']].sum()\n",
    "\n",
    "print (resumo)"
   ]
  },
  {
   "cell_type": "code",
   "execution_count": 173,
   "metadata": {},
   "outputs": [
    {
     "name": "stdout",
     "output_type": "stream",
     "text": [
      "884024.3999999999\n"
     ]
    }
   ],
   "source": [
    "faturamaneto = transactions['total_item'].sum()\n",
    "print(faturamaneto)"
   ]
  },
  {
   "attachments": {},
   "cell_type": "markdown",
   "metadata": {},
   "source": [
    "Não encontramos nenhuma divergência entre os valores ao efetuarmos a multiplicação do valor de venda do item por sua quantidade, e compararmos com o valor expresso na coluna \"total_item\", não encontramos nenhuma divergência, o valor dessa diferença é zero."
   ]
  },
  {
   "attachments": {},
   "cell_type": "markdown",
   "metadata": {},
   "source": [
    "> # **Exploração dos Dados**"
   ]
  },
  {
   "cell_type": "code",
   "execution_count": 188,
   "metadata": {},
   "outputs": [
    {
     "name": "stdout",
     "output_type": "stream",
     "text": [
      "COUVERT LOCA              4611\n",
      "HEINEKEN LONG NECK        3587\n",
      "CANECA CHOPP LAGER        2308\n",
      "AGUA SEM GAS              1919\n",
      "COUVERT LOCA JAMPA        1828\n",
      "BOLINHO ACOSTELADO        1031\n",
      "CANECA CHOPP IPA          1018\n",
      "SOL LN                     962\n",
      "APEROL SPRITZ              831\n",
      "AGUA COM GÁS               784\n",
      "COCA COLA KS 290ML         769\n",
      "LOCA BURGUER               543\n",
      "LOCA PINK                  530\n",
      "SANGRIA HP                 492\n",
      "CAIPIRINHA                 433\n",
      "MOSCOW MULE                432\n",
      "SODA ITALIANA              412\n",
      "CAIPIROSCA                 412\n",
      "CRISPY CHICKEN BURGUER     405\n",
      "CAIPIROSCA FRUTA           402\n",
      "Name: produto, dtype: int64\n"
     ]
    }
   ],
   "source": [
    "# Find Unique Values of each item sold in the Column \"produto\"\n",
    "# https://www.statology.org/pandas-unique-values-in-column/\n",
    "# Pandas: get first 10 elements of a series\n",
    "top_produtos = transactions.produto.value_counts()\n",
    "print (top_produtos[:20])"
   ]
  },
  {
   "attachments": {},
   "cell_type": "markdown",
   "metadata": {},
   "source": [
    "### Observações\n",
    "Alguns itens chamaram minha atenção:\n",
    "\n",
    "Eventos: foram identificados 7 registros de eventos. No entanto, como não conseguimos determinar quais itens foram vendidos nessas ocasiões, optamos por excluí-los da análise. Considerando que o escopo do trabalho é analisar os produtos vendidos, horário e dia, bem como sua quantidade, fica inviável realizar um estudo sem essas informações;\n",
    "\n",
    "Couvert artístico: seria interessante obter informações sobre os artistas que se apresentaram nesses horários, pois poderíamos investigar quais deles atraem um público maior e que permanece mais tempo no estabelecimento;\n",
    "\n",
    "Os dados também apresentaram dois tipos de entrada que não estão especificadas: \"item extra\" (73 registros) e \"porção extra\" (36 registros). Portanto, esses registros também serão retirados da análise."
   ]
  },
  {
   "cell_type": "code",
   "execution_count": null,
   "metadata": {},
   "outputs": [],
   "source": [
    "# dropping the rows as explain above.\n",
    "\n",
    "# Pandas Drop Rows Based on Column Value\n",
    "# https://sparkbyexamples.com/pandas/pandas-delete-rows-based-on-column-value/\n",
    "\n",
    "array= ['EVENTO.', 'EVENTO', 'PORÇAO EXTRA', \"ITEM EXTRA\", 'EVENTO CORPORATIVO' ]\n",
    "transactions.drop(transactions[transactions.produto.isin(array)].index, inplace = True)"
   ]
  },
  {
   "cell_type": "code",
   "execution_count": 179,
   "metadata": {},
   "outputs": [],
   "source": [
    "### Converting a Series to a dataframe and changing the namee of the column\n",
    "top_produtos_df = top_produtos.to_frame().reset_index()\n",
    "top_produtos_df.rename(columns = {'produto':'quantidade', 'index':'produto'}, inplace = True)"
   ]
  },
  {
   "cell_type": "code",
   "execution_count": 183,
   "metadata": {},
   "outputs": [
    {
     "data": {
      "application/vnd.plotly.v1+json": {
       "config": {
        "linkText": "Export to plot.ly",
        "plotlyServerURL": "https://plot.ly",
        "showLink": false
       },
       "data": [
        {
         "cells": {
          "align": "left",
          "fill": {
           "color": "gray"
          },
          "font": {
           "color": "white",
           "size": 12
          },
          "values": [
           [
            "COUVERT LOCA",
            "HEINEKEN LONG NECK",
            "CANECA CHOPP LAGER",
            "AGUA SEM GAS",
            "COUVERT LOCA JAMPA",
            "BOLINHO ACOSTELADO",
            "CANECA CHOPP IPA",
            "SOL LN",
            "APEROL SPRITZ",
            "AGUA COM GÁS ",
            "COCA COLA KS 290ML",
            "LOCA BURGUER",
            "LOCA PINK",
            "SANGRIA HP",
            "CAIPIRINHA",
            "MOSCOW MULE",
            "SODA ITALIANA ",
            "CAIPIROSCA",
            "CRISPY CHICKEN BURGUER",
            "CAIPIROSCA FRUTA ",
            "LINGUIÇA NA CACHAÇA",
            "GUACAMOLE & NACHOS",
            "PAPAS LOCAS (BATATA)",
            "BRUSCHETA",
            "CEVICHE CLASSICO",
            "AGUA COM GÁS EV",
            "GIN TONIC TRADICIONAL",
            "TABUA MEXICANA ",
            "PRAYA PURO MALTE 600  ML",
            "CAIPIRINHA TANGERINA PIME",
            "PIRULITO BARRIGA HP",
            "CHICKEN FINGERS ",
            "JARRA CHOPP",
            "COPO SUCO",
            "SODA ITALIANA EV",
            "FISH AND CHIPS",
            "JARRA SANGRIA LOCA SUMMER",
            "PIRULITO CAMARÃO HP",
            "CHORIPAN LOCA SUMMER",
            "PRAYA PURO MALTE LN",
            "RISOTINHO DE CAMARÃO",
            "SHOT LIMAO",
            "ARANCCINI CARANGUEJO",
            "CHORIPAN HP",
            "COSMOPOLITAN",
            "PIRULITO FRANGO HP",
            "COUVERT artistico",
            "COCA COLA LT ZERO",
            "MOJITO",
            "CAIPIROSCA HP",
            "LOCA CITRUS",
            "COCA COLA LT NORMAL",
            "PORÇÃO FOCACCIA",
            "PRAYA WITBIER 600  ML",
            "DRINK ELEGANT LOCA",
            "BALDE SOL ",
            "BURRATA COM JAMON E VERDE",
            "JARRA CLERICOT",
            "CHURROS DOCE DE LEITE",
            "FAVA COM CAMARÃO",
            "DRINK MELANCITA",
            "JARRA IPA",
            "NEGRONI",
            "ÁGUA TONICA",
            "PASTEIS CARNE",
            "DOSE OLD PARR",
            "TÁBUA PORCO LOCO",
            "PASTEIS QUEIJO REINO",
            "PRAYA WITBIER LONG NECK",
            "BRIE AO FORNO COM GELÉIA",
            "CAFÉ",
            "TROPICAL GIN",
            "LIMONCELLO SPRITZ",
            "CHORIPOLVO",
            "TABUA DE FRUTOS DO MAR",
            "HALUMI DE COALHO HP",
            "PASTEIS CARNE HP",
            "DOSE CACHAÇA",
            "DRINK PITAIA GIN",
            "SANGRIA LOCA SUMMER ",
            "CAIPIRINHA HP",
            "HEINEKEN 600",
            "CORONA",
            "RED BULL",
            "PASTEIS QUEIJO REINO HP",
            "ARROZ COSTELA ",
            "CHICKEN FINGERS HP",
            "GUARANA LT NORMAL",
            "MIMOSA",
            "HALUMI DE COALHO FARROFA ",
            "PORÇAO NACHOS",
            "COUVERT",
            "HEINEKEN ZERO",
            "MOLHO EXTRA AIOLE",
            "DOSE VODKA SKY",
            "CALDO DO DIA ",
            "RIBS AO BARBECUE",
            "DOSE DE BACARDI ",
            "DOSE RED LABEL",
            "BROWNIE DE CHOCOLATE",
            "BEE'S KNESS",
            "SPRITE KS ",
            "TABUA MIELO",
            "CAIPIROSCA F VERMELHAS",
            "DOSE WHISKY 12 ANOS CHIVA",
            "CAIPIRINHA ESPECIAL",
            "APEROL MARGARITA ",
            "QUE BELEZA TINTO",
            "DOSE CACHAÇA ESPECIAL",
            "FAVA COM CAMARÃO HP",
            "SCHWEPPES",
            "OMELETE C SALADA",
            "CEVICHE BANANA",
            "MATE DA CASA LOCA SUMMER",
            "CORTESIA ANIVERS. /DRINK",
            "BAER MATE",
            "MARGARITA DE MORANGO",
            "CLERICOT TAÇA",
            "MOLHO EXTRA VERMELHO",
            "PIRULITO QUEIJO HP",
            "DOSE GIN BEEFEATER",
            "LOCA FRESH GIN",
            "LULAS EMPANADAS",
            "RISOTINHO DE ALHO PORO",
            "CAMARÕES FRITOS COM PÁPRI",
            "TAÇA VINHO LOCA",
            "DOSE BLACK LABEL",
            " DRY MARTINI ",
            "ESTRELLA GALICIA ",
            "MORANGO SUNSET ",
            "GUARANA LT ZERO",
            "PIRULITO VEGETAIS HP",
            "MENU ELA SOMA",
            "SANGRIA F.VERMELHAS",
            "EMBALAGEM G",
            "DOSE CAMPARI",
            "EMBALAGEM M",
            "DOSE DE BACARDI LIMON",
            "RISOTINHO DE FUNGHI",
            "WHISKEY AND COLD BREW",
            "TABUA VEGETARIANA",
            "MAR SALGADO ROSE 2019",
            "QUE BELEZA BRANCO",
            "DOSE BLACK&WHITE",
            "MAR SALGADO BRANCO 2019",
            "DOSE GIN",
            "LICOR 43",
            "COZUMEL",
            "PINOT GRIGIO ",
            "CANECA CHOPP SOUR",
            "CAIPIROSCA C ABSOLUT",
            "DOSE VODKA ABSOLUT",
            "PIRULITO CAMARÃO ",
            "MOCO FIDALGO TINTO",
            "VB SEVERINA LAGER",
            "VB ARRETADA APA",
            "DOSE BALLANTIN'S 12 ANOS",
            "FEIJOADA",
            "BLOODY MARY",
            "VB HONEY BEER",
            "VB FORROZEIRO CREAM ALE",
            "CODORNA COM FAVA",
            "PASTEIS QUEIJO COALHO",
            "NHOQUE CAMARAO",
            "COUVER DAIRA",
            "JARRA SANGRIA F.VERMELHAS",
            "SALADA GREGA DE MELANCIA",
            "ESTRELLA GALICIA LN ZERO",
            "CASTELO DE PIAS TINTO",
            "MEIA SETE",
            "FANTA KS 290ML",
            "CASTELO DE PIAS BRANCO",
            "CAIPIROSCA ABSOLUT MIEL-O",
            "HAPPY WINE ",
            "RUBACÃO NORMAL",
            "CEPAS  CHARDONNAY",
            "DOSE TEQUILA",
            "DRINK COPA",
            "MOCO FIDALGO BRANCO",
            "CASAS DEL MAIPO CARMENERE",
            "TAXA ROLHA",
            "VB SOUR",
            "NHOQUE ",
            "PIRULITO QUEIJO ",
            "CAIPIRINHA MIEL-O",
            "PIRULITO BARRIGA ",
            "CASAS DEL MAIPO CHARDONNA",
            "TANQUERAY FLOR DE SEVILLA",
            "CEPAS MALBEC",
            "COLORADO RIBEIRAO 600ML",
            "PASTEIS QUEIJO COALHO HP",
            "JARRA SUCO",
            "WINE DEGUSTAÇÃO ",
            "NHOQUE FUNGHI",
            "AGUA DE COCO ",
            "AMSTEL 600",
            "CANUDO DE VIDRO",
            "CHILLI C NACHOS",
            "TAÇA ESPUMANTE",
            "LICOR AMARULA",
            "1913 SPARKLING ROSE ",
            "TAÇA VINHO LOCA SUMMER",
            "PARMEGIANA DE CARNE",
            "JULIA FLORISTA ",
            "PIRULITO FRANGO ",
            "RIBERA CABERNET SAUVIGNON",
            "TORRE TEMPRANILLO",
            "1913 SPARKLING BRUIT",
            "ESTROGONOFE FRANGO",
            "CHEDDAR BURGER",
            "DOSE TANQUERAY  ",
            "MONTEPULCIANO",
            "TABUA DE FRIOS EV",
            "DOC CHANTEL",
            "MOCO FIDALGO ROSE",
            "CAMISETA LOCA",
            "EXECUTIVO ALMOÇO",
            "LATA VIERBRAUER",
            "CAIPIRINHA F VERMELHAS ",
            "PASTEIS QUEIJO REINO EV",
            "ESTROGONOFE DE FRANGO 2 P",
            "BUCKET LOCA",
            "BONE",
            "ENSOPADINHO POLVO ",
            "NORTON MALBEC DOC 2018",
            "4 ESTAÇÕES VIOGNIER",
            "CHAKA MERLOT",
            "BOLINHO AC. ALMOÇO",
            "TORRE SAUVIGNONN BLANC",
            "LOCA CITRUS HP",
            "CHAC CHAC MALBEC",
            "DOSE APEROL",
            "4 ESTAÇÕES MALBEC 2019",
            "VELA G",
            "HEINEKEN LN EV",
            "DOSE BAILEYS",
            "CANECA LOCA",
            "MILHO MEXICANO",
            "BARON RESERVA ",
            "PORTA LONG NECK LOCA",
            "VIERBRAUER",
            "CANECA MOSCOW ",
            "APEROL SPRITZ EV",
            "LA VID TINTO",
            "RUBACÃO",
            "CHURROS ALMOÇO",
            "DOSE JAMERSON IPA",
            "DADINHOS QUEIJO COALHO CO",
            "CAIPIROSCA MIEL-O",
            "BOLSA PRAIA PANO",
            "FISH AND CHIPS EV",
            "BOLINHO ACOSTELADO EV",
            "ESP. CORDELIER BRUT/ROSE ",
            "LOCA PINK PROMO",
            "ESPUMANTE SALTON BRUT",
            "VINHO ROSE BLEND ",
            "VINHO 4 ESTACIONES SUMMER",
            "SONANTE DÃO PORT",
            "PIRULITO VEGETAIS ",
            "CERVEJA ORIGINAL",
            "DRINK CHA DE LA MADRE",
            "VISTA CALMA CABERNET",
            "PARMEGIANA",
            "PIRULITO ",
            "MOQUECA DE TILAPIA ",
            "SALADA VERDE",
            "LOCA PINK EV",
            "VINHO ROSE EV",
            "BALDE SOL EV",
            "LICOR COINTREAU",
            "RIBERA SAUVIGNON BLANC ",
            "SABONETES MIELO",
            "DADINHO DE CARNE DE SOL ",
            "ESPAGUETE LEGUMES",
            "DRINK EM LATA FIVE VOILA ",
            "CHORIPAN EV",
            "VISTA CALMA MALBEC",
            "BROWNIE CHOCOLATE",
            "4 ESTAÇÕES ROSE 2019",
            "MOQUECA PARAIBANA",
            "SALADA DA CASA",
            "STELLA 600 ML",
            "COLORADO VIXNU "
           ],
           [
            4611,
            3587,
            2308,
            1919,
            1828,
            1031,
            1018,
            962,
            831,
            784,
            769,
            543,
            530,
            492,
            433,
            432,
            412,
            412,
            405,
            402,
            398,
            391,
            390,
            385,
            359,
            348,
            345,
            324,
            317,
            315,
            306,
            299,
            297,
            294,
            291,
            281,
            275,
            274,
            271,
            267,
            265,
            258,
            252,
            252,
            250,
            250,
            223,
            223,
            221,
            220,
            220,
            218,
            211,
            198,
            195,
            189,
            176,
            171,
            166,
            164,
            158,
            154,
            154,
            133,
            133,
            132,
            130,
            130,
            128,
            125,
            123,
            120,
            116,
            112,
            110,
            110,
            107,
            103,
            102,
            102,
            100,
            100,
            100,
            99,
            99,
            98,
            95,
            94,
            94,
            93,
            92,
            91,
            90,
            87,
            80,
            74,
            74,
            73,
            70,
            65,
            65,
            63,
            62,
            60,
            58,
            55,
            54,
            54,
            53,
            53,
            51,
            49,
            49,
            48,
            48,
            47,
            46,
            45,
            45,
            43,
            42,
            41,
            40,
            40,
            39,
            39,
            38,
            36,
            35,
            34,
            33,
            33,
            33,
            32,
            32,
            30,
            27,
            27,
            27,
            26,
            26,
            26,
            26,
            26,
            25,
            24,
            23,
            23,
            23,
            23,
            23,
            23,
            23,
            22,
            22,
            19,
            18,
            18,
            17,
            17,
            17,
            16,
            16,
            15,
            15,
            13,
            13,
            13,
            12,
            12,
            12,
            12,
            12,
            12,
            12,
            11,
            11,
            11,
            11,
            11,
            10,
            10,
            10,
            10,
            10,
            10,
            9,
            9,
            9,
            9,
            9,
            8,
            8,
            7,
            7,
            7,
            7,
            7,
            6,
            6,
            6,
            6,
            6,
            6,
            6,
            6,
            6,
            6,
            5,
            5,
            4,
            4,
            4,
            4,
            4,
            4,
            4,
            4,
            4,
            3,
            3,
            3,
            3,
            3,
            3,
            3,
            3,
            3,
            3,
            3,
            3,
            3,
            3,
            3,
            2,
            2,
            2,
            2,
            2,
            2,
            2,
            2,
            2,
            2,
            2,
            2,
            2,
            2,
            2,
            2,
            2,
            2,
            1,
            1,
            1,
            1,
            1,
            1,
            1,
            1,
            1,
            1,
            1,
            1,
            1,
            1,
            1,
            1,
            1,
            1,
            1,
            1,
            1,
            1,
            1,
            1,
            1,
            1,
            1,
            1,
            1,
            1,
            1
           ]
          ]
         },
         "header": {
          "align": "left",
          "fill": {
           "color": "black"
          },
          "font": {
           "color": "white",
           "size": 12
          },
          "values": [
           "produto",
           "quantidade"
          ]
         },
         "type": "table"
        }
       ],
       "layout": {
        "template": {
         "data": {
          "bar": [
           {
            "error_x": {
             "color": "#2a3f5f"
            },
            "error_y": {
             "color": "#2a3f5f"
            },
            "marker": {
             "line": {
              "color": "#E5ECF6",
              "width": 0.5
             },
             "pattern": {
              "fillmode": "overlay",
              "size": 10,
              "solidity": 0.2
             }
            },
            "type": "bar"
           }
          ],
          "barpolar": [
           {
            "marker": {
             "line": {
              "color": "#E5ECF6",
              "width": 0.5
             },
             "pattern": {
              "fillmode": "overlay",
              "size": 10,
              "solidity": 0.2
             }
            },
            "type": "barpolar"
           }
          ],
          "carpet": [
           {
            "aaxis": {
             "endlinecolor": "#2a3f5f",
             "gridcolor": "white",
             "linecolor": "white",
             "minorgridcolor": "white",
             "startlinecolor": "#2a3f5f"
            },
            "baxis": {
             "endlinecolor": "#2a3f5f",
             "gridcolor": "white",
             "linecolor": "white",
             "minorgridcolor": "white",
             "startlinecolor": "#2a3f5f"
            },
            "type": "carpet"
           }
          ],
          "choropleth": [
           {
            "colorbar": {
             "outlinewidth": 0,
             "ticks": ""
            },
            "type": "choropleth"
           }
          ],
          "contour": [
           {
            "colorbar": {
             "outlinewidth": 0,
             "ticks": ""
            },
            "colorscale": [
             [
              0,
              "#0d0887"
             ],
             [
              0.1111111111111111,
              "#46039f"
             ],
             [
              0.2222222222222222,
              "#7201a8"
             ],
             [
              0.3333333333333333,
              "#9c179e"
             ],
             [
              0.4444444444444444,
              "#bd3786"
             ],
             [
              0.5555555555555556,
              "#d8576b"
             ],
             [
              0.6666666666666666,
              "#ed7953"
             ],
             [
              0.7777777777777778,
              "#fb9f3a"
             ],
             [
              0.8888888888888888,
              "#fdca26"
             ],
             [
              1,
              "#f0f921"
             ]
            ],
            "type": "contour"
           }
          ],
          "contourcarpet": [
           {
            "colorbar": {
             "outlinewidth": 0,
             "ticks": ""
            },
            "type": "contourcarpet"
           }
          ],
          "heatmap": [
           {
            "colorbar": {
             "outlinewidth": 0,
             "ticks": ""
            },
            "colorscale": [
             [
              0,
              "#0d0887"
             ],
             [
              0.1111111111111111,
              "#46039f"
             ],
             [
              0.2222222222222222,
              "#7201a8"
             ],
             [
              0.3333333333333333,
              "#9c179e"
             ],
             [
              0.4444444444444444,
              "#bd3786"
             ],
             [
              0.5555555555555556,
              "#d8576b"
             ],
             [
              0.6666666666666666,
              "#ed7953"
             ],
             [
              0.7777777777777778,
              "#fb9f3a"
             ],
             [
              0.8888888888888888,
              "#fdca26"
             ],
             [
              1,
              "#f0f921"
             ]
            ],
            "type": "heatmap"
           }
          ],
          "heatmapgl": [
           {
            "colorbar": {
             "outlinewidth": 0,
             "ticks": ""
            },
            "colorscale": [
             [
              0,
              "#0d0887"
             ],
             [
              0.1111111111111111,
              "#46039f"
             ],
             [
              0.2222222222222222,
              "#7201a8"
             ],
             [
              0.3333333333333333,
              "#9c179e"
             ],
             [
              0.4444444444444444,
              "#bd3786"
             ],
             [
              0.5555555555555556,
              "#d8576b"
             ],
             [
              0.6666666666666666,
              "#ed7953"
             ],
             [
              0.7777777777777778,
              "#fb9f3a"
             ],
             [
              0.8888888888888888,
              "#fdca26"
             ],
             [
              1,
              "#f0f921"
             ]
            ],
            "type": "heatmapgl"
           }
          ],
          "histogram": [
           {
            "marker": {
             "pattern": {
              "fillmode": "overlay",
              "size": 10,
              "solidity": 0.2
             }
            },
            "type": "histogram"
           }
          ],
          "histogram2d": [
           {
            "colorbar": {
             "outlinewidth": 0,
             "ticks": ""
            },
            "colorscale": [
             [
              0,
              "#0d0887"
             ],
             [
              0.1111111111111111,
              "#46039f"
             ],
             [
              0.2222222222222222,
              "#7201a8"
             ],
             [
              0.3333333333333333,
              "#9c179e"
             ],
             [
              0.4444444444444444,
              "#bd3786"
             ],
             [
              0.5555555555555556,
              "#d8576b"
             ],
             [
              0.6666666666666666,
              "#ed7953"
             ],
             [
              0.7777777777777778,
              "#fb9f3a"
             ],
             [
              0.8888888888888888,
              "#fdca26"
             ],
             [
              1,
              "#f0f921"
             ]
            ],
            "type": "histogram2d"
           }
          ],
          "histogram2dcontour": [
           {
            "colorbar": {
             "outlinewidth": 0,
             "ticks": ""
            },
            "colorscale": [
             [
              0,
              "#0d0887"
             ],
             [
              0.1111111111111111,
              "#46039f"
             ],
             [
              0.2222222222222222,
              "#7201a8"
             ],
             [
              0.3333333333333333,
              "#9c179e"
             ],
             [
              0.4444444444444444,
              "#bd3786"
             ],
             [
              0.5555555555555556,
              "#d8576b"
             ],
             [
              0.6666666666666666,
              "#ed7953"
             ],
             [
              0.7777777777777778,
              "#fb9f3a"
             ],
             [
              0.8888888888888888,
              "#fdca26"
             ],
             [
              1,
              "#f0f921"
             ]
            ],
            "type": "histogram2dcontour"
           }
          ],
          "mesh3d": [
           {
            "colorbar": {
             "outlinewidth": 0,
             "ticks": ""
            },
            "type": "mesh3d"
           }
          ],
          "parcoords": [
           {
            "line": {
             "colorbar": {
              "outlinewidth": 0,
              "ticks": ""
             }
            },
            "type": "parcoords"
           }
          ],
          "pie": [
           {
            "automargin": true,
            "type": "pie"
           }
          ],
          "scatter": [
           {
            "fillpattern": {
             "fillmode": "overlay",
             "size": 10,
             "solidity": 0.2
            },
            "type": "scatter"
           }
          ],
          "scatter3d": [
           {
            "line": {
             "colorbar": {
              "outlinewidth": 0,
              "ticks": ""
             }
            },
            "marker": {
             "colorbar": {
              "outlinewidth": 0,
              "ticks": ""
             }
            },
            "type": "scatter3d"
           }
          ],
          "scattercarpet": [
           {
            "marker": {
             "colorbar": {
              "outlinewidth": 0,
              "ticks": ""
             }
            },
            "type": "scattercarpet"
           }
          ],
          "scattergeo": [
           {
            "marker": {
             "colorbar": {
              "outlinewidth": 0,
              "ticks": ""
             }
            },
            "type": "scattergeo"
           }
          ],
          "scattergl": [
           {
            "marker": {
             "colorbar": {
              "outlinewidth": 0,
              "ticks": ""
             }
            },
            "type": "scattergl"
           }
          ],
          "scattermapbox": [
           {
            "marker": {
             "colorbar": {
              "outlinewidth": 0,
              "ticks": ""
             }
            },
            "type": "scattermapbox"
           }
          ],
          "scatterpolar": [
           {
            "marker": {
             "colorbar": {
              "outlinewidth": 0,
              "ticks": ""
             }
            },
            "type": "scatterpolar"
           }
          ],
          "scatterpolargl": [
           {
            "marker": {
             "colorbar": {
              "outlinewidth": 0,
              "ticks": ""
             }
            },
            "type": "scatterpolargl"
           }
          ],
          "scatterternary": [
           {
            "marker": {
             "colorbar": {
              "outlinewidth": 0,
              "ticks": ""
             }
            },
            "type": "scatterternary"
           }
          ],
          "surface": [
           {
            "colorbar": {
             "outlinewidth": 0,
             "ticks": ""
            },
            "colorscale": [
             [
              0,
              "#0d0887"
             ],
             [
              0.1111111111111111,
              "#46039f"
             ],
             [
              0.2222222222222222,
              "#7201a8"
             ],
             [
              0.3333333333333333,
              "#9c179e"
             ],
             [
              0.4444444444444444,
              "#bd3786"
             ],
             [
              0.5555555555555556,
              "#d8576b"
             ],
             [
              0.6666666666666666,
              "#ed7953"
             ],
             [
              0.7777777777777778,
              "#fb9f3a"
             ],
             [
              0.8888888888888888,
              "#fdca26"
             ],
             [
              1,
              "#f0f921"
             ]
            ],
            "type": "surface"
           }
          ],
          "table": [
           {
            "cells": {
             "fill": {
              "color": "#EBF0F8"
             },
             "line": {
              "color": "white"
             }
            },
            "header": {
             "fill": {
              "color": "#C8D4E3"
             },
             "line": {
              "color": "white"
             }
            },
            "type": "table"
           }
          ]
         },
         "layout": {
          "annotationdefaults": {
           "arrowcolor": "#2a3f5f",
           "arrowhead": 0,
           "arrowwidth": 1
          },
          "autotypenumbers": "strict",
          "coloraxis": {
           "colorbar": {
            "outlinewidth": 0,
            "ticks": ""
           }
          },
          "colorscale": {
           "diverging": [
            [
             0,
             "#8e0152"
            ],
            [
             0.1,
             "#c51b7d"
            ],
            [
             0.2,
             "#de77ae"
            ],
            [
             0.3,
             "#f1b6da"
            ],
            [
             0.4,
             "#fde0ef"
            ],
            [
             0.5,
             "#f7f7f7"
            ],
            [
             0.6,
             "#e6f5d0"
            ],
            [
             0.7,
             "#b8e186"
            ],
            [
             0.8,
             "#7fbc41"
            ],
            [
             0.9,
             "#4d9221"
            ],
            [
             1,
             "#276419"
            ]
           ],
           "sequential": [
            [
             0,
             "#0d0887"
            ],
            [
             0.1111111111111111,
             "#46039f"
            ],
            [
             0.2222222222222222,
             "#7201a8"
            ],
            [
             0.3333333333333333,
             "#9c179e"
            ],
            [
             0.4444444444444444,
             "#bd3786"
            ],
            [
             0.5555555555555556,
             "#d8576b"
            ],
            [
             0.6666666666666666,
             "#ed7953"
            ],
            [
             0.7777777777777778,
             "#fb9f3a"
            ],
            [
             0.8888888888888888,
             "#fdca26"
            ],
            [
             1,
             "#f0f921"
            ]
           ],
           "sequentialminus": [
            [
             0,
             "#0d0887"
            ],
            [
             0.1111111111111111,
             "#46039f"
            ],
            [
             0.2222222222222222,
             "#7201a8"
            ],
            [
             0.3333333333333333,
             "#9c179e"
            ],
            [
             0.4444444444444444,
             "#bd3786"
            ],
            [
             0.5555555555555556,
             "#d8576b"
            ],
            [
             0.6666666666666666,
             "#ed7953"
            ],
            [
             0.7777777777777778,
             "#fb9f3a"
            ],
            [
             0.8888888888888888,
             "#fdca26"
            ],
            [
             1,
             "#f0f921"
            ]
           ]
          },
          "colorway": [
           "#636efa",
           "#EF553B",
           "#00cc96",
           "#ab63fa",
           "#FFA15A",
           "#19d3f3",
           "#FF6692",
           "#B6E880",
           "#FF97FF",
           "#FECB52"
          ],
          "font": {
           "color": "#2a3f5f"
          },
          "geo": {
           "bgcolor": "white",
           "lakecolor": "white",
           "landcolor": "#E5ECF6",
           "showlakes": true,
           "showland": true,
           "subunitcolor": "white"
          },
          "hoverlabel": {
           "align": "left"
          },
          "hovermode": "closest",
          "mapbox": {
           "style": "light"
          },
          "paper_bgcolor": "white",
          "plot_bgcolor": "#E5ECF6",
          "polar": {
           "angularaxis": {
            "gridcolor": "white",
            "linecolor": "white",
            "ticks": ""
           },
           "bgcolor": "#E5ECF6",
           "radialaxis": {
            "gridcolor": "white",
            "linecolor": "white",
            "ticks": ""
           }
          },
          "scene": {
           "xaxis": {
            "backgroundcolor": "#E5ECF6",
            "gridcolor": "white",
            "gridwidth": 2,
            "linecolor": "white",
            "showbackground": true,
            "ticks": "",
            "zerolinecolor": "white"
           },
           "yaxis": {
            "backgroundcolor": "#E5ECF6",
            "gridcolor": "white",
            "gridwidth": 2,
            "linecolor": "white",
            "showbackground": true,
            "ticks": "",
            "zerolinecolor": "white"
           },
           "zaxis": {
            "backgroundcolor": "#E5ECF6",
            "gridcolor": "white",
            "gridwidth": 2,
            "linecolor": "white",
            "showbackground": true,
            "ticks": "",
            "zerolinecolor": "white"
           }
          },
          "shapedefaults": {
           "line": {
            "color": "#2a3f5f"
           }
          },
          "ternary": {
           "aaxis": {
            "gridcolor": "white",
            "linecolor": "white",
            "ticks": ""
           },
           "baxis": {
            "gridcolor": "white",
            "linecolor": "white",
            "ticks": ""
           },
           "bgcolor": "#E5ECF6",
           "caxis": {
            "gridcolor": "white",
            "linecolor": "white",
            "ticks": ""
           }
          },
          "title": {
           "x": 0.05
          },
          "xaxis": {
           "automargin": true,
           "gridcolor": "white",
           "linecolor": "white",
           "ticks": "",
           "title": {
            "standoff": 15
           },
           "zerolinecolor": "white",
           "zerolinewidth": 2
          },
          "yaxis": {
           "automargin": true,
           "gridcolor": "white",
           "linecolor": "white",
           "ticks": "",
           "title": {
            "standoff": 15
           },
           "zerolinecolor": "white",
           "zerolinewidth": 2
          }
         }
        },
        "title": {
         "text": "Produtos mais vendidos - (Jul 2022 - Jan 23)",
         "x": 0.5,
         "xanchor": "center",
         "y": 0.95,
         "yanchor": "top"
        }
       }
      },
      "text/html": [
       "<div>                            <div id=\"d3d45edc-a024-4584-8f43-4c180a91db83\" class=\"plotly-graph-div\" style=\"height:525px; width:100%;\"></div>            <script type=\"text/javascript\">                require([\"plotly\"], function(Plotly) {                    window.PLOTLYENV=window.PLOTLYENV || {};                                    if (document.getElementById(\"d3d45edc-a024-4584-8f43-4c180a91db83\")) {                    Plotly.newPlot(                        \"d3d45edc-a024-4584-8f43-4c180a91db83\",                        [{\"cells\":{\"align\":\"left\",\"fill\":{\"color\":\"gray\"},\"font\":{\"color\":\"white\",\"size\":12},\"values\":[[\"COUVERT LOCA\",\"HEINEKEN LONG NECK\",\"CANECA CHOPP LAGER\",\"AGUA SEM GAS\",\"COUVERT LOCA JAMPA\",\"BOLINHO ACOSTELADO\",\"CANECA CHOPP IPA\",\"SOL LN\",\"APEROL SPRITZ\",\"AGUA COM G\\u00c1S \",\"COCA COLA KS 290ML\",\"LOCA BURGUER\",\"LOCA PINK\",\"SANGRIA HP\",\"CAIPIRINHA\",\"MOSCOW MULE\",\"SODA ITALIANA \",\"CAIPIROSCA\",\"CRISPY CHICKEN BURGUER\",\"CAIPIROSCA FRUTA \",\"LINGUI\\u00c7A NA CACHA\\u00c7A\",\"GUACAMOLE & NACHOS\",\"PAPAS LOCAS (BATATA)\",\"BRUSCHETA\",\"CEVICHE CLASSICO\",\"AGUA COM G\\u00c1S EV\",\"GIN TONIC TRADICIONAL\",\"TABUA MEXICANA \",\"PRAYA PURO MALTE 600  ML\",\"CAIPIRINHA TANGERINA PIME\",\"PIRULITO BARRIGA HP\",\"CHICKEN FINGERS \",\"JARRA CHOPP\",\"COPO SUCO\",\"SODA ITALIANA EV\",\"FISH AND CHIPS\",\"JARRA SANGRIA LOCA SUMMER\",\"PIRULITO CAMAR\\u00c3O HP\",\"CHORIPAN LOCA SUMMER\",\"PRAYA PURO MALTE LN\",\"RISOTINHO DE CAMAR\\u00c3O\",\"SHOT LIMAO\",\"ARANCCINI CARANGUEJO\",\"CHORIPAN HP\",\"COSMOPOLITAN\",\"PIRULITO FRANGO HP\",\"COUVERT artistico\",\"COCA COLA LT ZERO\",\"MOJITO\",\"CAIPIROSCA HP\",\"LOCA CITRUS\",\"COCA COLA LT NORMAL\",\"POR\\u00c7\\u00c3O FOCACCIA\",\"PRAYA WITBIER 600  ML\",\"DRINK ELEGANT LOCA\",\"BALDE SOL \",\"BURRATA COM JAMON E VERDE\",\"JARRA CLERICOT\",\"CHURROS DOCE DE LEITE\",\"FAVA COM CAMAR\\u00c3O\",\"DRINK MELANCITA\",\"JARRA IPA\",\"NEGRONI\",\"\\u00c1GUA TONICA\",\"PASTEIS CARNE\",\"DOSE OLD PARR\",\"T\\u00c1BUA PORCO LOCO\",\"PASTEIS QUEIJO REINO\",\"PRAYA WITBIER LONG NECK\",\"BRIE AO FORNO COM GEL\\u00c9IA\",\"CAF\\u00c9\",\"TROPICAL GIN\",\"LIMONCELLO SPRITZ\",\"CHORIPOLVO\",\"TABUA DE FRUTOS DO MAR\",\"HALUMI DE COALHO HP\",\"PASTEIS CARNE HP\",\"DOSE CACHA\\u00c7A\",\"DRINK PITAIA GIN\",\"SANGRIA LOCA SUMMER \",\"CAIPIRINHA HP\",\"HEINEKEN 600\",\"CORONA\",\"RED BULL\",\"PASTEIS QUEIJO REINO HP\",\"ARROZ COSTELA \",\"CHICKEN FINGERS HP\",\"GUARANA LT NORMAL\",\"MIMOSA\",\"HALUMI DE COALHO FARROFA \",\"POR\\u00c7AO NACHOS\",\"COUVERT\",\"HEINEKEN ZERO\",\"MOLHO EXTRA AIOLE\",\"DOSE VODKA SKY\",\"CALDO DO DIA \",\"RIBS AO BARBECUE\",\"DOSE DE BACARDI \",\"DOSE RED LABEL\",\"BROWNIE DE CHOCOLATE\",\"BEE'S KNESS\",\"SPRITE KS \",\"TABUA MIELO\",\"CAIPIROSCA F VERMELHAS\",\"DOSE WHISKY 12 ANOS CHIVA\",\"CAIPIRINHA ESPECIAL\",\"APEROL MARGARITA \",\"QUE BELEZA TINTO\",\"DOSE CACHA\\u00c7A ESPECIAL\",\"FAVA COM CAMAR\\u00c3O HP\",\"SCHWEPPES\",\"OMELETE C SALADA\",\"CEVICHE BANANA\",\"MATE DA CASA LOCA SUMMER\",\"CORTESIA ANIVERS. /DRINK\",\"BAER MATE\",\"MARGARITA DE MORANGO\",\"CLERICOT TA\\u00c7A\",\"MOLHO EXTRA VERMELHO\",\"PIRULITO QUEIJO HP\",\"DOSE GIN BEEFEATER\",\"LOCA FRESH GIN\",\"LULAS EMPANADAS\",\"RISOTINHO DE ALHO PORO\",\"CAMAR\\u00d5ES FRITOS COM P\\u00c1PRI\",\"TA\\u00c7A VINHO LOCA\",\"DOSE BLACK LABEL\",\" DRY MARTINI \",\"ESTRELLA GALICIA \",\"MORANGO SUNSET \",\"GUARANA LT ZERO\",\"PIRULITO VEGETAIS HP\",\"MENU ELA SOMA\",\"SANGRIA F.VERMELHAS\",\"EMBALAGEM G\",\"DOSE CAMPARI\",\"EMBALAGEM M\",\"DOSE DE BACARDI LIMON\",\"RISOTINHO DE FUNGHI\",\"WHISKEY AND COLD BREW\",\"TABUA VEGETARIANA\",\"MAR SALGADO ROSE 2019\",\"QUE BELEZA BRANCO\",\"DOSE BLACK&WHITE\",\"MAR SALGADO BRANCO 2019\",\"DOSE GIN\",\"LICOR 43\",\"COZUMEL\",\"PINOT GRIGIO \",\"CANECA CHOPP SOUR\",\"CAIPIROSCA C ABSOLUT\",\"DOSE VODKA ABSOLUT\",\"PIRULITO CAMAR\\u00c3O \",\"MOCO FIDALGO TINTO\",\"VB SEVERINA LAGER\",\"VB ARRETADA APA\",\"DOSE BALLANTIN'S 12 ANOS\",\"FEIJOADA\",\"BLOODY MARY\",\"VB HONEY BEER\",\"VB FORROZEIRO CREAM ALE\",\"CODORNA COM FAVA\",\"PASTEIS QUEIJO COALHO\",\"NHOQUE CAMARAO\",\"COUVER DAIRA\",\"JARRA SANGRIA F.VERMELHAS\",\"SALADA GREGA DE MELANCIA\",\"ESTRELLA GALICIA LN ZERO\",\"CASTELO DE PIAS TINTO\",\"MEIA SETE\",\"FANTA KS 290ML\",\"CASTELO DE PIAS BRANCO\",\"CAIPIROSCA ABSOLUT MIEL-O\",\"HAPPY WINE \",\"RUBAC\\u00c3O NORMAL\",\"CEPAS  CHARDONNAY\",\"DOSE TEQUILA\",\"DRINK COPA\",\"MOCO FIDALGO BRANCO\",\"CASAS DEL MAIPO CARMENERE\",\"TAXA ROLHA\",\"VB SOUR\",\"NHOQUE \",\"PIRULITO QUEIJO \",\"CAIPIRINHA MIEL-O\",\"PIRULITO BARRIGA \",\"CASAS DEL MAIPO CHARDONNA\",\"TANQUERAY FLOR DE SEVILLA\",\"CEPAS MALBEC\",\"COLORADO RIBEIRAO 600ML\",\"PASTEIS QUEIJO COALHO HP\",\"JARRA SUCO\",\"WINE DEGUSTA\\u00c7\\u00c3O \",\"NHOQUE FUNGHI\",\"AGUA DE COCO \",\"AMSTEL 600\",\"CANUDO DE VIDRO\",\"CHILLI C NACHOS\",\"TA\\u00c7A ESPUMANTE\",\"LICOR AMARULA\",\"1913 SPARKLING ROSE \",\"TA\\u00c7A VINHO LOCA SUMMER\",\"PARMEGIANA DE CARNE\",\"JULIA FLORISTA \",\"PIRULITO FRANGO \",\"RIBERA CABERNET SAUVIGNON\",\"TORRE TEMPRANILLO\",\"1913 SPARKLING BRUIT\",\"ESTROGONOFE FRANGO\",\"CHEDDAR BURGER\",\"DOSE TANQUERAY  \",\"MONTEPULCIANO\",\"TABUA DE FRIOS EV\",\"DOC CHANTEL\",\"MOCO FIDALGO ROSE\",\"CAMISETA LOCA\",\"EXECUTIVO ALMO\\u00c7O\",\"LATA VIERBRAUER\",\"CAIPIRINHA F VERMELHAS \",\"PASTEIS QUEIJO REINO EV\",\"ESTROGONOFE DE FRANGO 2 P\",\"BUCKET LOCA\",\"BONE\",\"ENSOPADINHO POLVO \",\"NORTON MALBEC DOC 2018\",\"4 ESTA\\u00c7\\u00d5ES VIOGNIER\",\"CHAKA MERLOT\",\"BOLINHO AC. ALMO\\u00c7O\",\"TORRE SAUVIGNONN BLANC\",\"LOCA CITRUS HP\",\"CHAC CHAC MALBEC\",\"DOSE APEROL\",\"4 ESTA\\u00c7\\u00d5ES MALBEC 2019\",\"VELA G\",\"HEINEKEN LN EV\",\"DOSE BAILEYS\",\"CANECA LOCA\",\"MILHO MEXICANO\",\"BARON RESERVA \",\"PORTA LONG NECK LOCA\",\"VIERBRAUER\",\"CANECA MOSCOW \",\"APEROL SPRITZ EV\",\"LA VID TINTO\",\"RUBAC\\u00c3O\",\"CHURROS ALMO\\u00c7O\",\"DOSE JAMERSON IPA\",\"DADINHOS QUEIJO COALHO CO\",\"CAIPIROSCA MIEL-O\",\"BOLSA PRAIA PANO\",\"FISH AND CHIPS EV\",\"BOLINHO ACOSTELADO EV\",\"ESP. CORDELIER BRUT/ROSE \",\"LOCA PINK PROMO\",\"ESPUMANTE SALTON BRUT\",\"VINHO ROSE BLEND \",\"VINHO 4 ESTACIONES SUMMER\",\"SONANTE D\\u00c3O PORT\",\"PIRULITO VEGETAIS \",\"CERVEJA ORIGINAL\",\"DRINK CHA DE LA MADRE\",\"VISTA CALMA CABERNET\",\"PARMEGIANA\",\"PIRULITO \",\"MOQUECA DE TILAPIA \",\"SALADA VERDE\",\"LOCA PINK EV\",\"VINHO ROSE EV\",\"BALDE SOL EV\",\"LICOR COINTREAU\",\"RIBERA SAUVIGNON BLANC \",\"SABONETES MIELO\",\"DADINHO DE CARNE DE SOL \",\"ESPAGUETE LEGUMES\",\"DRINK EM LATA FIVE VOILA \",\"CHORIPAN EV\",\"VISTA CALMA MALBEC\",\"BROWNIE CHOCOLATE\",\"4 ESTA\\u00c7\\u00d5ES ROSE 2019\",\"MOQUECA PARAIBANA\",\"SALADA DA CASA\",\"STELLA 600 ML\",\"COLORADO VIXNU \"],[4611,3587,2308,1919,1828,1031,1018,962,831,784,769,543,530,492,433,432,412,412,405,402,398,391,390,385,359,348,345,324,317,315,306,299,297,294,291,281,275,274,271,267,265,258,252,252,250,250,223,223,221,220,220,218,211,198,195,189,176,171,166,164,158,154,154,133,133,132,130,130,128,125,123,120,116,112,110,110,107,103,102,102,100,100,100,99,99,98,95,94,94,93,92,91,90,87,80,74,74,73,70,65,65,63,62,60,58,55,54,54,53,53,51,49,49,48,48,47,46,45,45,43,42,41,40,40,39,39,38,36,35,34,33,33,33,32,32,30,27,27,27,26,26,26,26,26,25,24,23,23,23,23,23,23,23,22,22,19,18,18,17,17,17,16,16,15,15,13,13,13,12,12,12,12,12,12,12,11,11,11,11,11,10,10,10,10,10,10,9,9,9,9,9,8,8,7,7,7,7,7,6,6,6,6,6,6,6,6,6,6,5,5,4,4,4,4,4,4,4,4,4,3,3,3,3,3,3,3,3,3,3,3,3,3,3,3,2,2,2,2,2,2,2,2,2,2,2,2,2,2,2,2,2,2,1,1,1,1,1,1,1,1,1,1,1,1,1,1,1,1,1,1,1,1,1,1,1,1,1,1,1,1,1,1,1]]},\"header\":{\"align\":\"left\",\"fill\":{\"color\":\"black\"},\"font\":{\"color\":\"white\",\"size\":12},\"values\":[\"produto\",\"quantidade\"]},\"type\":\"table\"}],                        {\"template\":{\"data\":{\"barpolar\":[{\"marker\":{\"line\":{\"color\":\"#E5ECF6\",\"width\":0.5},\"pattern\":{\"fillmode\":\"overlay\",\"size\":10,\"solidity\":0.2}},\"type\":\"barpolar\"}],\"bar\":[{\"error_x\":{\"color\":\"#2a3f5f\"},\"error_y\":{\"color\":\"#2a3f5f\"},\"marker\":{\"line\":{\"color\":\"#E5ECF6\",\"width\":0.5},\"pattern\":{\"fillmode\":\"overlay\",\"size\":10,\"solidity\":0.2}},\"type\":\"bar\"}],\"carpet\":[{\"aaxis\":{\"endlinecolor\":\"#2a3f5f\",\"gridcolor\":\"white\",\"linecolor\":\"white\",\"minorgridcolor\":\"white\",\"startlinecolor\":\"#2a3f5f\"},\"baxis\":{\"endlinecolor\":\"#2a3f5f\",\"gridcolor\":\"white\",\"linecolor\":\"white\",\"minorgridcolor\":\"white\",\"startlinecolor\":\"#2a3f5f\"},\"type\":\"carpet\"}],\"choropleth\":[{\"colorbar\":{\"outlinewidth\":0,\"ticks\":\"\"},\"type\":\"choropleth\"}],\"contourcarpet\":[{\"colorbar\":{\"outlinewidth\":0,\"ticks\":\"\"},\"type\":\"contourcarpet\"}],\"contour\":[{\"colorbar\":{\"outlinewidth\":0,\"ticks\":\"\"},\"colorscale\":[[0.0,\"#0d0887\"],[0.1111111111111111,\"#46039f\"],[0.2222222222222222,\"#7201a8\"],[0.3333333333333333,\"#9c179e\"],[0.4444444444444444,\"#bd3786\"],[0.5555555555555556,\"#d8576b\"],[0.6666666666666666,\"#ed7953\"],[0.7777777777777778,\"#fb9f3a\"],[0.8888888888888888,\"#fdca26\"],[1.0,\"#f0f921\"]],\"type\":\"contour\"}],\"heatmapgl\":[{\"colorbar\":{\"outlinewidth\":0,\"ticks\":\"\"},\"colorscale\":[[0.0,\"#0d0887\"],[0.1111111111111111,\"#46039f\"],[0.2222222222222222,\"#7201a8\"],[0.3333333333333333,\"#9c179e\"],[0.4444444444444444,\"#bd3786\"],[0.5555555555555556,\"#d8576b\"],[0.6666666666666666,\"#ed7953\"],[0.7777777777777778,\"#fb9f3a\"],[0.8888888888888888,\"#fdca26\"],[1.0,\"#f0f921\"]],\"type\":\"heatmapgl\"}],\"heatmap\":[{\"colorbar\":{\"outlinewidth\":0,\"ticks\":\"\"},\"colorscale\":[[0.0,\"#0d0887\"],[0.1111111111111111,\"#46039f\"],[0.2222222222222222,\"#7201a8\"],[0.3333333333333333,\"#9c179e\"],[0.4444444444444444,\"#bd3786\"],[0.5555555555555556,\"#d8576b\"],[0.6666666666666666,\"#ed7953\"],[0.7777777777777778,\"#fb9f3a\"],[0.8888888888888888,\"#fdca26\"],[1.0,\"#f0f921\"]],\"type\":\"heatmap\"}],\"histogram2dcontour\":[{\"colorbar\":{\"outlinewidth\":0,\"ticks\":\"\"},\"colorscale\":[[0.0,\"#0d0887\"],[0.1111111111111111,\"#46039f\"],[0.2222222222222222,\"#7201a8\"],[0.3333333333333333,\"#9c179e\"],[0.4444444444444444,\"#bd3786\"],[0.5555555555555556,\"#d8576b\"],[0.6666666666666666,\"#ed7953\"],[0.7777777777777778,\"#fb9f3a\"],[0.8888888888888888,\"#fdca26\"],[1.0,\"#f0f921\"]],\"type\":\"histogram2dcontour\"}],\"histogram2d\":[{\"colorbar\":{\"outlinewidth\":0,\"ticks\":\"\"},\"colorscale\":[[0.0,\"#0d0887\"],[0.1111111111111111,\"#46039f\"],[0.2222222222222222,\"#7201a8\"],[0.3333333333333333,\"#9c179e\"],[0.4444444444444444,\"#bd3786\"],[0.5555555555555556,\"#d8576b\"],[0.6666666666666666,\"#ed7953\"],[0.7777777777777778,\"#fb9f3a\"],[0.8888888888888888,\"#fdca26\"],[1.0,\"#f0f921\"]],\"type\":\"histogram2d\"}],\"histogram\":[{\"marker\":{\"pattern\":{\"fillmode\":\"overlay\",\"size\":10,\"solidity\":0.2}},\"type\":\"histogram\"}],\"mesh3d\":[{\"colorbar\":{\"outlinewidth\":0,\"ticks\":\"\"},\"type\":\"mesh3d\"}],\"parcoords\":[{\"line\":{\"colorbar\":{\"outlinewidth\":0,\"ticks\":\"\"}},\"type\":\"parcoords\"}],\"pie\":[{\"automargin\":true,\"type\":\"pie\"}],\"scatter3d\":[{\"line\":{\"colorbar\":{\"outlinewidth\":0,\"ticks\":\"\"}},\"marker\":{\"colorbar\":{\"outlinewidth\":0,\"ticks\":\"\"}},\"type\":\"scatter3d\"}],\"scattercarpet\":[{\"marker\":{\"colorbar\":{\"outlinewidth\":0,\"ticks\":\"\"}},\"type\":\"scattercarpet\"}],\"scattergeo\":[{\"marker\":{\"colorbar\":{\"outlinewidth\":0,\"ticks\":\"\"}},\"type\":\"scattergeo\"}],\"scattergl\":[{\"marker\":{\"colorbar\":{\"outlinewidth\":0,\"ticks\":\"\"}},\"type\":\"scattergl\"}],\"scattermapbox\":[{\"marker\":{\"colorbar\":{\"outlinewidth\":0,\"ticks\":\"\"}},\"type\":\"scattermapbox\"}],\"scatterpolargl\":[{\"marker\":{\"colorbar\":{\"outlinewidth\":0,\"ticks\":\"\"}},\"type\":\"scatterpolargl\"}],\"scatterpolar\":[{\"marker\":{\"colorbar\":{\"outlinewidth\":0,\"ticks\":\"\"}},\"type\":\"scatterpolar\"}],\"scatter\":[{\"fillpattern\":{\"fillmode\":\"overlay\",\"size\":10,\"solidity\":0.2},\"type\":\"scatter\"}],\"scatterternary\":[{\"marker\":{\"colorbar\":{\"outlinewidth\":0,\"ticks\":\"\"}},\"type\":\"scatterternary\"}],\"surface\":[{\"colorbar\":{\"outlinewidth\":0,\"ticks\":\"\"},\"colorscale\":[[0.0,\"#0d0887\"],[0.1111111111111111,\"#46039f\"],[0.2222222222222222,\"#7201a8\"],[0.3333333333333333,\"#9c179e\"],[0.4444444444444444,\"#bd3786\"],[0.5555555555555556,\"#d8576b\"],[0.6666666666666666,\"#ed7953\"],[0.7777777777777778,\"#fb9f3a\"],[0.8888888888888888,\"#fdca26\"],[1.0,\"#f0f921\"]],\"type\":\"surface\"}],\"table\":[{\"cells\":{\"fill\":{\"color\":\"#EBF0F8\"},\"line\":{\"color\":\"white\"}},\"header\":{\"fill\":{\"color\":\"#C8D4E3\"},\"line\":{\"color\":\"white\"}},\"type\":\"table\"}]},\"layout\":{\"annotationdefaults\":{\"arrowcolor\":\"#2a3f5f\",\"arrowhead\":0,\"arrowwidth\":1},\"autotypenumbers\":\"strict\",\"coloraxis\":{\"colorbar\":{\"outlinewidth\":0,\"ticks\":\"\"}},\"colorscale\":{\"diverging\":[[0,\"#8e0152\"],[0.1,\"#c51b7d\"],[0.2,\"#de77ae\"],[0.3,\"#f1b6da\"],[0.4,\"#fde0ef\"],[0.5,\"#f7f7f7\"],[0.6,\"#e6f5d0\"],[0.7,\"#b8e186\"],[0.8,\"#7fbc41\"],[0.9,\"#4d9221\"],[1,\"#276419\"]],\"sequential\":[[0.0,\"#0d0887\"],[0.1111111111111111,\"#46039f\"],[0.2222222222222222,\"#7201a8\"],[0.3333333333333333,\"#9c179e\"],[0.4444444444444444,\"#bd3786\"],[0.5555555555555556,\"#d8576b\"],[0.6666666666666666,\"#ed7953\"],[0.7777777777777778,\"#fb9f3a\"],[0.8888888888888888,\"#fdca26\"],[1.0,\"#f0f921\"]],\"sequentialminus\":[[0.0,\"#0d0887\"],[0.1111111111111111,\"#46039f\"],[0.2222222222222222,\"#7201a8\"],[0.3333333333333333,\"#9c179e\"],[0.4444444444444444,\"#bd3786\"],[0.5555555555555556,\"#d8576b\"],[0.6666666666666666,\"#ed7953\"],[0.7777777777777778,\"#fb9f3a\"],[0.8888888888888888,\"#fdca26\"],[1.0,\"#f0f921\"]]},\"colorway\":[\"#636efa\",\"#EF553B\",\"#00cc96\",\"#ab63fa\",\"#FFA15A\",\"#19d3f3\",\"#FF6692\",\"#B6E880\",\"#FF97FF\",\"#FECB52\"],\"font\":{\"color\":\"#2a3f5f\"},\"geo\":{\"bgcolor\":\"white\",\"lakecolor\":\"white\",\"landcolor\":\"#E5ECF6\",\"showlakes\":true,\"showland\":true,\"subunitcolor\":\"white\"},\"hoverlabel\":{\"align\":\"left\"},\"hovermode\":\"closest\",\"mapbox\":{\"style\":\"light\"},\"paper_bgcolor\":\"white\",\"plot_bgcolor\":\"#E5ECF6\",\"polar\":{\"angularaxis\":{\"gridcolor\":\"white\",\"linecolor\":\"white\",\"ticks\":\"\"},\"bgcolor\":\"#E5ECF6\",\"radialaxis\":{\"gridcolor\":\"white\",\"linecolor\":\"white\",\"ticks\":\"\"}},\"scene\":{\"xaxis\":{\"backgroundcolor\":\"#E5ECF6\",\"gridcolor\":\"white\",\"gridwidth\":2,\"linecolor\":\"white\",\"showbackground\":true,\"ticks\":\"\",\"zerolinecolor\":\"white\"},\"yaxis\":{\"backgroundcolor\":\"#E5ECF6\",\"gridcolor\":\"white\",\"gridwidth\":2,\"linecolor\":\"white\",\"showbackground\":true,\"ticks\":\"\",\"zerolinecolor\":\"white\"},\"zaxis\":{\"backgroundcolor\":\"#E5ECF6\",\"gridcolor\":\"white\",\"gridwidth\":2,\"linecolor\":\"white\",\"showbackground\":true,\"ticks\":\"\",\"zerolinecolor\":\"white\"}},\"shapedefaults\":{\"line\":{\"color\":\"#2a3f5f\"}},\"ternary\":{\"aaxis\":{\"gridcolor\":\"white\",\"linecolor\":\"white\",\"ticks\":\"\"},\"baxis\":{\"gridcolor\":\"white\",\"linecolor\":\"white\",\"ticks\":\"\"},\"bgcolor\":\"#E5ECF6\",\"caxis\":{\"gridcolor\":\"white\",\"linecolor\":\"white\",\"ticks\":\"\"}},\"title\":{\"x\":0.05},\"xaxis\":{\"automargin\":true,\"gridcolor\":\"white\",\"linecolor\":\"white\",\"ticks\":\"\",\"title\":{\"standoff\":15},\"zerolinecolor\":\"white\",\"zerolinewidth\":2},\"yaxis\":{\"automargin\":true,\"gridcolor\":\"white\",\"linecolor\":\"white\",\"ticks\":\"\",\"title\":{\"standoff\":15},\"zerolinecolor\":\"white\",\"zerolinewidth\":2}}},\"title\":{\"text\":\"Produtos mais vendidos - (Jul 2022 - Jan 23)\",\"x\":0.5,\"xanchor\":\"center\",\"y\":0.95,\"yanchor\":\"top\"}},                        {\"responsive\": true}                    ).then(function(){\n",
       "                            \n",
       "var gd = document.getElementById('d3d45edc-a024-4584-8f43-4c180a91db83');\n",
       "var x = new MutationObserver(function (mutations, observer) {{\n",
       "        var display = window.getComputedStyle(gd).display;\n",
       "        if (!display || display === 'none') {{\n",
       "            console.log([gd, 'removed!']);\n",
       "            Plotly.purge(gd);\n",
       "            observer.disconnect();\n",
       "        }}\n",
       "}});\n",
       "\n",
       "// Listen for the removal of the full notebook cells\n",
       "var notebookContainer = gd.closest('#notebook-container');\n",
       "if (notebookContainer) {{\n",
       "    x.observe(notebookContainer, {childList: true});\n",
       "}}\n",
       "\n",
       "// Listen for the clearing of the current output cell\n",
       "var outputEl = gd.closest('.output');\n",
       "if (outputEl) {{\n",
       "    x.observe(outputEl, {childList: true});\n",
       "}}\n",
       "\n",
       "                        })                };                });            </script>        </div>"
      ]
     },
     "metadata": {},
     "output_type": "display_data"
    }
   ],
   "source": [
    "### Gráfico 01\n",
    "\n",
    "fig_top_produtos = go.Figure(data=[go.Table(\n",
    "    header=dict(values=list(top_produtos_df.columns),\n",
    "                font=dict(color='white', size=12), # configurando a cor e tamanho da letra\n",
    "                fill_color='black',\n",
    "                align='left'),\n",
    "    cells=dict(values=[top_produtos_df['produto'], top_produtos_df['quantidade'] ],\n",
    "               font=dict(color='white', size=12),\n",
    "               fill_color='gray',\n",
    "               align='left'))\n",
    "])\n",
    "\n",
    "\n",
    "fig_top_produtos.update_layout(\n",
    "    title={\n",
    "        'text': \"Produtos mais vendidos - (Jul 2022 - Jan 23)\",\n",
    "        'y':0.95,\n",
    "        'x':0.5,\n",
    "        'xanchor': 'center',\n",
    "        'yanchor': 'top'})\n",
    "\n",
    "py.iplot(fig_top_produtos)"
   ]
  },
  {
   "attachments": {},
   "cell_type": "markdown",
   "metadata": {},
   "source": [
    "## Algumas métricas importantes"
   ]
  },
  {
   "cell_type": "markdown",
   "metadata": {},
   "source": [
    "Após a filtragem dos regitros conforme a explicação acima, teos algumas métricas para apresentar:"
   ]
  },
  {
   "cell_type": "code",
   "execution_count": 193,
   "metadata": {},
   "outputs": [
    {
     "name": "stdout",
     "output_type": "stream",
     "text": [
      "O faturamento desconsiderando-se os eventos no período foi de: 865321.6\n"
     ]
    }
   ],
   "source": [
    "faturamento_sem_eventos= transactions['total_item'].sum().round(decimals = 2)\n",
    "print('O faturamento desconsiderando-se os eventos no período foi de:', faturamento_sem_eventos)"
   ]
  },
  {
   "cell_type": "code",
   "execution_count": 190,
   "metadata": {},
   "outputs": [
    {
     "name": "stdout",
     "output_type": "stream",
     "text": [
      "O número de diferentes itens vendido pelo estabelecimento é: 283\n"
     ]
    }
   ],
   "source": [
    "## Get unique names in the \"produto\" column using Series.unique() \n",
    "## https://sparkbyexamples.com/pandas/pandas-count-unique-values-in-column/\n",
    "num_itens_vend = transactions.produto.unique().size\n",
    "\n",
    "print('O número de diferentes itens vendido pelo estabelecimento é:', num_itens_vend)"
   ]
  },
  {
   "cell_type": "code",
   "execution_count": 195,
   "metadata": {},
   "outputs": [
    {
     "name": "stdout",
     "output_type": "stream",
     "text": [
      "O número médio de itens vendidos em um dia é: \n",
      "226.58\n"
     ]
    }
   ],
   "source": [
    "# achando a média do numero de itens vendidos por dia\n",
    "grouped_by_date = pd.DataFrame(transactions.groupby(by='data_normal')['quantidade'].sum()).reset_index()\n",
    "print('O número médio de itens vendidos em um dia é: \\n{0}'.format(\n",
    "    grouped_by_date.quantidade.mean().round(decimals = 2)))"
   ]
  },
  {
   "cell_type": "code",
   "execution_count": 196,
   "metadata": {},
   "outputs": [
    {
     "name": "stdout",
     "output_type": "stream",
     "text": [
      "A média de itens por venda é: 8.60 itens\n"
     ]
    }
   ],
   "source": [
    "# Look at the average number of items purchased...\n",
    "\n",
    "avg_items = transactions.groupby(by='venda')['produto'].count().mean()\n",
    "\n",
    "print('A média de itens por venda é: %.2f itens' %avg_items)"
   ]
  },
  {
   "cell_type": "code",
   "execution_count": 199,
   "metadata": {},
   "outputs": [
    {
     "name": "stdout",
     "output_type": "stream",
     "text": [
      "A média de itens por venda e por período do dia é: \n",
      "  Período  Média\n",
      "2   tarde  11.29\n",
      "1   noite   8.59\n",
      "0   manhã   2.99\n"
     ]
    }
   ],
   "source": [
    "# ...and how that varies by time of day\n",
    "\n",
    "single_transaction = pd.DataFrame(transactions.groupby(by='venda')['quantidade'].sum())\n",
    "\n",
    "single_transaction = single_transaction.merge(transactions[['hora','minuto','periodo_do_dia','data_normal', 'venda']]\\\n",
    "                                              .drop_duplicates('venda'), left_on=single_transaction.index, \n",
    "                                              right_on='venda', how='left', copy=False)\n",
    "\n",
    "st01 = single_transaction.groupby(by='periodo_do_dia')['quantidade'].mean().round (decimals=2)\n",
    "st01 = st01.to_frame().reset_index()\n",
    "st01.rename(columns = {'periodo_do_dia':'Período', 'quantidade':'Média'}, inplace = True)\n",
    "\n",
    "print('A média de itens por venda e por período do dia é: \\n{0}'.format(st01.sort_values(by=['Média'],ascending=False)))"
   ]
  },
  {
   "cell_type": "code",
   "execution_count": 200,
   "metadata": {},
   "outputs": [],
   "source": [
    "# GRAFICO 07\n",
    "# Creating a table and an animated frequencie line"
   ]
  },
  {
   "cell_type": "markdown",
   "metadata": {},
   "source": [
    " <h2> Quantidade de itens vendidos por dia ao longo do ano</h2>"
   ]
  },
  {
   "cell_type": "code",
   "execution_count": null,
   "metadata": {},
   "outputs": [],
   "source": [
    "# Sales trend by date\n",
    "# https://www.youtube.com/watch?v=Xjm7fOw6gjY\n",
    "# use reset index for transforming the data in a variable not a index\n",
    "\n",
    "grouped_by_date = pd.DataFrame(transactions.groupby(by=['data_normal','dia_da_semana'])['quantidade'].sum().reset_index())\n",
    "\n",
    "vendas = px.line(grouped_by_date, x = 'data_normal', y = 'quantidade', hover_data=[\"dia_da_semana\"],\n",
    "                 title = 'Itens vendidos por dia - Jul/22 a Jan/23', labels= {'item_count' : 'Quantidade','horario': 'Data'})\n",
    "\n",
    "# update line color\n",
    "vendas.update_traces(line_color='seagreen')\n",
    "\n",
    "# update backgournd\n",
    "vendas.update_layout(\n",
    "    plot_bgcolor='lightcyan', \n",
    "    xaxis =dict(mirror=True,\n",
    "    ticks='outside', showline=True, linecolor='black', gridcolor='lightcyan'),\n",
    "    yaxis =dict(mirror=True, ticks='outside', showline=True, linecolor='black', gridcolor='lightcyan')\n",
    ")\n",
    "\n",
    "# adicionando anaotação\n",
    "# https://plotly.com/python/styling-plotly-express/\n",
    "vendas.add_annotation( # add a text callout with arrow\n",
    "    text=\"Vendas muito acima do padrão, dia 23 de Junho\", x=\"2022-06-23\", y=2300, arrowhead=1, showarrow=True\n",
    ")\n",
    "\n",
    "vendas.add_annotation( # add a text callout with arrow\n",
    "    text=\"Não foram informadas vendas <br /> entre 12 e 26 de Julho e<br /> houve um pico de vendas<br /> no dia 30 de Julho\", \n",
    "    x=\"2022-07-20\", y=500, arrowhead=1, showarrow=True)\n",
    "\n",
    "\n",
    "\n",
    "py.iplot(vendas, config={'locale': 'pt-BR'}, filename='/home/claudio/results/grafico07 - Vendas_por_dia_linha.html')"
   ]
  }
 ],
 "metadata": {
  "kernelspec": {
   "display_name": "Python 3",
   "language": "python",
   "name": "python3"
  },
  "language_info": {
   "codemirror_mode": {
    "name": "ipython",
    "version": 3
   },
   "file_extension": ".py",
   "mimetype": "text/x-python",
   "name": "python",
   "nbconvert_exporter": "python",
   "pygments_lexer": "ipython3",
   "version": "3.10.6"
  },
  "orig_nbformat": 4
 },
 "nbformat": 4,
 "nbformat_minor": 2
}
