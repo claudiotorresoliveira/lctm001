{
 "cells": [
  {
   "attachments": {},
   "cell_type": "markdown",
   "metadata": {},
   "source": [
    "## **Loca Como Tu Madre**"
   ]
  },
  {
   "cell_type": "code",
   "execution_count": 13,
   "metadata": {},
   "outputs": [
    {
     "data": {
      "text/html": [
       "        <script type=\"text/javascript\">\n",
       "        window.PlotlyConfig = {MathJaxConfig: 'local'};\n",
       "        if (window.MathJax && window.MathJax.Hub && window.MathJax.Hub.Config) {window.MathJax.Hub.Config({SVG: {font: \"STIX-Web\"}});}\n",
       "        if (typeof require !== 'undefined') {\n",
       "        require.undef(\"plotly\");\n",
       "        requirejs.config({\n",
       "            paths: {\n",
       "                'plotly': ['https://cdn.plot.ly/plotly-2.18.2.min']\n",
       "            }\n",
       "        });\n",
       "        require(['plotly'], function(Plotly) {\n",
       "            window._Plotly = Plotly;\n",
       "        });\n",
       "        }\n",
       "        </script>\n",
       "        "
      ]
     },
     "metadata": {},
     "output_type": "display_data"
    }
   ],
   "source": [
    "from IPython import display\n",
    "\n",
    "import pandas as pd\n",
    "import numpy as np\n",
    "import matplotlib.pyplot as plt\n",
    "# import seaborn as sns; sns.set()\n",
    "import datetime\n",
    "import nbformat\n",
    "import plotly.express as px\n",
    "from plotly.offline import download_plotlyjs, init_notebook_mode, plot, iplot\n",
    "init_notebook_mode (connected = True )\n",
    "import plotly.graph_objs as go\n",
    "import plotly.offline as py\n",
    "from matplotlib.backends.backend_pdf import PdfPages\n",
    "from fpdf import FPDF\n",
    "pd.options.display.max_columns = None\n",
    "pd.options.display.max_rows = None\n",
    "import locale\n",
    "import plotly.io as pio"
   ]
  },
  {
   "cell_type": "code",
   "execution_count": null,
   "metadata": {},
   "outputs": [],
   "source": [
    "# 1) git log --pretty=format:%cI,%h,%an,%ae,%s > /home/claudio/@LCTM/commits_LCTM.csv\n",
    "# 2) abrir excel e e na aba dados, importar o arquivo gerado pelo código acima\n"
   ]
  },
  {
   "cell_type": "code",
   "execution_count": 14,
   "metadata": {},
   "outputs": [],
   "source": [
    "# setar locale para português para que os dias da semana retornem em portugês no código abaixo.\n",
    "locale.setlocale(locale.LC_ALL, 'pt_BR.utf-8')\n",
    "\n",
    "# Importing each csv file and then joinning then, \n",
    "# as the files for other months are send by the client we can insert each one at the end of this code\n",
    "\n",
    "df1 = pd.read_csv(r'/home/claudio/@LCTM/lctm001/2022_07.csv', encoding=\"ISO-8859-1\", sep = ';')\n",
    "df2 = pd.read_csv(r'/home/claudio/@LCTM/lctm001/2022_08.csv', encoding=\"ISO-8859-1\", sep = ';')\n",
    "df3 = pd.read_csv(r'/home/claudio/@LCTM/lctm001/2022_09.csv', encoding=\"ISO-8859-1\", sep = ';')\n",
    "df4 = pd.read_csv(r'/home/claudio/@LCTM/lctm001/2022_10.csv', encoding=\"ISO-8859-1\", sep = ';')\n",
    "df5 = pd.read_csv(r'/home/claudio/@LCTM/lctm001/2022_11.csv', encoding=\"ISO-8859-1\", sep = ';')\n",
    "df6 = pd.read_csv(r'/home/claudio/@LCTM/lctm001/2022_12.csv', encoding=\"ISO-8859-1\", sep = ';')\n",
    "df7 = pd.read_csv(r'/home/claudio/@LCTM/lctm001/2023_01.csv', encoding=\"ISO-8859-1\", sep = ';')"
   ]
  },
  {
   "cell_type": "code",
   "execution_count": 65,
   "metadata": {},
   "outputs": [],
   "source": [
    "transactions = pd.concat([df1, df2, df3, df4, df5, df6, df7], ignore_index=True)"
   ]
  },
  {
   "cell_type": "code",
   "execution_count": 67,
   "metadata": {},
   "outputs": [],
   "source": [
    "del transactions['Vr. Desconto']\n",
    "del transactions['Valor Venda']\n",
    "del transactions['Tx Serviço']\n",
    "del transactions[\"Caixa\"]\n",
    "del transactions['Operador']\n",
    "del transactions['Data Cancelamento']\n",
    "del transactions['Operador Cancelamento']\n",
    "del transactions['Operador Desconto']\n",
    "del transactions['Operador Desc Repique']\n",
    "del transactions['NRC']\n",
    "del transactions['Comandas']\n",
    "del transactions['Série NFCE']\n",
    "del transactions['Série NFE']\n",
    "del transactions['Integração']\n",
    "del transactions['Observação']\n",
    "del transactions['CO_CLIENTE']\n",
    "del transactions['Atendente']\n",
    "del transactions['IC_REVENDA']"
   ]
  },
  {
   "cell_type": "code",
   "execution_count": 68,
   "metadata": {},
   "outputs": [
    {
     "name": "stdout",
     "output_type": "stream",
     "text": [
      "<class 'pandas.core.frame.DataFrame'>\n",
      "RangeIndex: 46472 entries, 0 to 46471\n",
      "Data columns (total 10 columns):\n",
      " #   Column            Non-Null Count  Dtype  \n",
      "---  ------            --------------  -----  \n",
      " 0   Cod Venda         4831 non-null   float64\n",
      " 1   NFe               41642 non-null  object \n",
      " 2   NFCe              46470 non-null  object \n",
      " 3   Data Venda        46472 non-null  object \n",
      " 4   Data Recebimento  46472 non-null  object \n",
      " 5   Nome Cliente      41650 non-null  object \n",
      " 6   Valor Recebido    46472 non-null  object \n",
      " 7   Operação          46470 non-null  object \n",
      " 8   Tipo Operação     46472 non-null  object \n",
      " 9   Vendedor          4830 non-null   object \n",
      "dtypes: float64(1), object(9)\n",
      "memory usage: 3.5+ MB\n"
     ]
    }
   ],
   "source": [
    "transactions.info()"
   ]
  },
  {
   "cell_type": "code",
   "execution_count": 74,
   "metadata": {},
   "outputs": [
    {
     "data": {
      "text/html": [
       "<div>\n",
       "<style scoped>\n",
       "    .dataframe tbody tr th:only-of-type {\n",
       "        vertical-align: middle;\n",
       "    }\n",
       "\n",
       "    .dataframe tbody tr th {\n",
       "        vertical-align: top;\n",
       "    }\n",
       "\n",
       "    .dataframe thead th {\n",
       "        text-align: right;\n",
       "    }\n",
       "</style>\n",
       "<table border=\"1\" class=\"dataframe\">\n",
       "  <thead>\n",
       "    <tr style=\"text-align: right;\">\n",
       "      <th></th>\n",
       "      <th>prim_col</th>\n",
       "      <th>NFe</th>\n",
       "      <th>NFCe</th>\n",
       "      <th>Data Venda</th>\n",
       "      <th>Data Recebimento</th>\n",
       "      <th>Nome Cliente</th>\n",
       "      <th>Valor Recebido</th>\n",
       "      <th>Operação</th>\n",
       "      <th>venda</th>\n",
       "      <th>Vendedor</th>\n",
       "    </tr>\n",
       "  </thead>\n",
       "  <tbody>\n",
       "    <tr>\n",
       "      <th>1</th>\n",
       "      <td>981201.0</td>\n",
       "      <td>NaN</td>\n",
       "      <td>6490</td>\n",
       "      <td>30/07/2022 20:02:56</td>\n",
       "      <td>30/07/2022 22:58:00</td>\n",
       "      <td>NaN</td>\n",
       "      <td>209</td>\n",
       "      <td>1</td>\n",
       "      <td>LOCA</td>\n",
       "      <td>JESSICA</td>\n",
       "    </tr>\n",
       "    <tr>\n",
       "      <th>2</th>\n",
       "      <td>NaN</td>\n",
       "      <td>421</td>\n",
       "      <td>BURRATA COM JAMON E VERDE</td>\n",
       "      <td>1</td>\n",
       "      <td>49</td>\n",
       "      <td>49</td>\n",
       "      <td>30/07/2022 20:03:12</td>\n",
       "      <td>JESSICA</td>\n",
       "      <td>981201</td>\n",
       "      <td>NaN</td>\n",
       "    </tr>\n",
       "    <tr>\n",
       "      <th>3</th>\n",
       "      <td>NaN</td>\n",
       "      <td>41</td>\n",
       "      <td>PORÇAO NACHOS</td>\n",
       "      <td>1</td>\n",
       "      <td>15</td>\n",
       "      <td>15</td>\n",
       "      <td>30/07/2022 20:17:28</td>\n",
       "      <td>JESSICA</td>\n",
       "      <td>981201</td>\n",
       "      <td>NaN</td>\n",
       "    </tr>\n",
       "    <tr>\n",
       "      <th>4</th>\n",
       "      <td>NaN</td>\n",
       "      <td>97</td>\n",
       "      <td>JARRA SANGRIA LOCA SUMMER</td>\n",
       "      <td>1</td>\n",
       "      <td>55</td>\n",
       "      <td>55</td>\n",
       "      <td>30/07/2022 20:22:20</td>\n",
       "      <td>GABRIEL</td>\n",
       "      <td>981201</td>\n",
       "      <td>NaN</td>\n",
       "    </tr>\n",
       "    <tr>\n",
       "      <th>5</th>\n",
       "      <td>NaN</td>\n",
       "      <td>406</td>\n",
       "      <td>LULAS EMPANADAS</td>\n",
       "      <td>1</td>\n",
       "      <td>38</td>\n",
       "      <td>38</td>\n",
       "      <td>30/07/2022 21:22:51</td>\n",
       "      <td>JESSICA</td>\n",
       "      <td>981201</td>\n",
       "      <td>NaN</td>\n",
       "    </tr>\n",
       "  </tbody>\n",
       "</table>\n",
       "</div>"
      ],
      "text/plain": [
       "   prim_col  NFe                       NFCe           Data Venda  \\\n",
       "1  981201.0  NaN                       6490  30/07/2022 20:02:56   \n",
       "2       NaN  421  BURRATA COM JAMON E VERDE                    1   \n",
       "3       NaN   41              PORÇAO NACHOS                    1   \n",
       "4       NaN   97  JARRA SANGRIA LOCA SUMMER                    1   \n",
       "5       NaN  406            LULAS EMPANADAS                    1   \n",
       "\n",
       "      Data Recebimento Nome Cliente       Valor Recebido Operação   venda  \\\n",
       "1  30/07/2022 22:58:00          NaN                  209        1    LOCA   \n",
       "2                   49           49  30/07/2022 20:03:12  JESSICA  981201   \n",
       "3                   15           15  30/07/2022 20:17:28  JESSICA  981201   \n",
       "4                   55           55  30/07/2022 20:22:20  GABRIEL  981201   \n",
       "5                   38           38  30/07/2022 21:22:51  JESSICA  981201   \n",
       "\n",
       "  Vendedor  \n",
       "1  JESSICA  \n",
       "2      NaN  \n",
       "3      NaN  \n",
       "4      NaN  \n",
       "5      NaN  "
      ]
     },
     "execution_count": 74,
     "metadata": {},
     "output_type": "execute_result"
    }
   ],
   "source": [
    "transactions.head(5)"
   ]
  },
  {
   "cell_type": "code",
   "execution_count": null,
   "metadata": {},
   "outputs": [],
   "source": [
    "#1 asgin the \"Cod Venda\" in the first record of each order to the \"Tipo Operação\" column\n",
    "\n"
   ]
  },
  {
   "cell_type": "code",
   "execution_count": 70,
   "metadata": {},
   "outputs": [],
   "source": [
    "# renomeei a coluna 'Tipo Operação' para 'venda'.\n",
    "transactions.rename(columns = {'Tipo Operação':'venda'}, inplace = True)"
   ]
  },
  {
   "cell_type": "code",
   "execution_count": 72,
   "metadata": {},
   "outputs": [],
   "source": [
    "# Pandas Drop Rows Based on Column Value\n",
    "# https://sparkbyexamples.com/pandas/pandas-delete-rows-based-on-column-value/\n",
    "transactions.drop(transactions[transactions['venda'] == 'CO_VENDA'].index, inplace = True)"
   ]
  },
  {
   "cell_type": "code",
   "execution_count": 73,
   "metadata": {},
   "outputs": [],
   "source": [
    "# renomeei a coluna 'Cod Venda' para 'prim_col'.\n",
    "transactions.rename(columns = {'Cod Venda':'prim_col'}, inplace = True)"
   ]
  },
  {
   "cell_type": "code",
   "execution_count": 63,
   "metadata": {},
   "outputs": [],
   "source": [
    "# transactions['prim_col'] = np.int64(transactions['prim_col'])"
   ]
  },
  {
   "cell_type": "code",
   "execution_count": null,
   "metadata": {},
   "outputs": [],
   "source": [
    "transactions.loc[transactions['prime_col'] != 'NaN', 'venda'] = transactions['prime_col']\n"
   ]
  },
  {
   "cell_type": "code",
   "execution_count": null,
   "metadata": {},
   "outputs": [],
   "source": [
    "# Definindo a função time_of_day\n",
    "def cod_ven(prime_col):\n",
    "    \"\"\"\n",
    "    Determina se a  compra foi feita pela manhã, tarde ou noite.\n",
    "    \"\"\"\n",
    "    \n",
    "    if prime_col != '':\n",
    "        \n",
    "    \n",
    "    \n",
    "    elif hora < 17:\n",
    "        \n",
    "        return 'tarde'\n",
    "    \n",
    "    else:\n",
    "        \n",
    "        return 'noite'"
   ]
  },
  {
   "cell_type": "code",
   "execution_count": null,
   "metadata": {},
   "outputs": [],
   "source": [
    "# Apply time of day function to 'hora' column\n",
    "\n",
    "transactions['time_of_day'] = transactions.hora.apply(time_of_day)"
   ]
  }
 ],
 "metadata": {
  "kernelspec": {
   "display_name": "Python 3",
   "language": "python",
   "name": "python3"
  },
  "language_info": {
   "codemirror_mode": {
    "name": "ipython",
    "version": 3
   },
   "file_extension": ".py",
   "mimetype": "text/x-python",
   "name": "python",
   "nbconvert_exporter": "python",
   "pygments_lexer": "ipython3",
   "version": "3.10.6"
  },
  "orig_nbformat": 4
 },
 "nbformat": 4,
 "nbformat_minor": 2
}
